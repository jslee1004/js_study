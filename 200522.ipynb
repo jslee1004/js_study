{
 "cells": [
  {
   "cell_type": "code",
   "execution_count": 4,
   "metadata": {},
   "outputs": [
    {
     "name": "stdout",
     "output_type": "stream",
     "text": [
      "1 3 5 7 9 \n",
      "break없이 종료됨\n"
     ]
    }
   ],
   "source": [
    "for i in range(10):\n",
    "    if i%2 == 0:\n",
    "        continue\n",
    "    print(i, end = \" \")\n",
    "else:\n",
    "    print(\"\\nbreak없이 종료됨\")"
   ]
  },
  {
   "cell_type": "code",
   "execution_count": 2,
   "metadata": {},
   "outputs": [
    {
     "name": "stdout",
     "output_type": "stream",
     "text": [
      "2 4 6 1 3 "
     ]
    }
   ],
   "source": [
    "file = [2,4,6,1,3,5,8,9,6,0]\n",
    "for i in file:\n",
    "    if i == 5:\n",
    "        break\n",
    "    print(i, end = \" \")\n",
    "else:\n",
    "    print('break없이 종료됨')"
   ]
  },
  {
   "cell_type": "code",
   "execution_count": 6,
   "metadata": {},
   "outputs": [
    {
     "name": "stdout",
     "output_type": "stream",
     "text": [
      "100\n",
      "None\n",
      "100\n"
     ]
    }
   ],
   "source": [
    "x = 100\n",
    "\n",
    "def add(a):\n",
    "    x = a*2\n",
    "\n",
    "print(x)\n",
    "print(add(x))\n",
    "print(x)"
   ]
  },
  {
   "cell_type": "code",
   "execution_count": 6,
   "metadata": {},
   "outputs": [
    {
     "name": "stdout",
     "output_type": "stream",
     "text": [
      "100\n",
      "200\n",
      "100\n"
     ]
    }
   ],
   "source": [
    "x = 100\n",
    "\n",
    "def add(a):\n",
    "    global x\n",
    "    return a*2\n",
    "\n",
    "print(x)\n",
    "print(add(x))\n",
    "print(x)"
   ]
  },
  {
   "cell_type": "code",
   "execution_count": 7,
   "metadata": {},
   "outputs": [
    {
     "ename": "SyntaxError",
     "evalue": "non-default argument follows default argument (<ipython-input-7-68affd95297d>, line 1)",
     "output_type": "error",
     "traceback": [
      "\u001b[1;36m  File \u001b[1;32m\"<ipython-input-7-68affd95297d>\"\u001b[1;36m, line \u001b[1;32m1\u001b[0m\n\u001b[1;33m    def info(name, age = 19, phone):\u001b[0m\n\u001b[1;37m            ^\u001b[0m\n\u001b[1;31mSyntaxError\u001b[0m\u001b[1;31m:\u001b[0m non-default argument follows default argument\n"
     ]
    }
   ],
   "source": [
    "def info(name, age = 19, phone):\n",
    "    pass\n",
    "\n",
    "info('kim', 28, '010-XXXX')\n",
    "info('kim', '010-XXXX')\n",
    "info(phone = '010-XXXX', name = 'kim')"
   ]
  },
  {
   "cell_type": "code",
   "execution_count": 11,
   "metadata": {},
   "outputs": [
    {
     "name": "stdout",
     "output_type": "stream",
     "text": [
      "None\n",
      "None\n",
      "None\n"
     ]
    },
    {
     "ename": "TypeError",
     "evalue": "info() missing 1 required positional argument: 'phone'",
     "output_type": "error",
     "traceback": [
      "\u001b[1;31m---------------------------------------------------------------------------\u001b[0m",
      "\u001b[1;31mTypeError\u001b[0m                                 Traceback (most recent call last)",
      "\u001b[1;32m<ipython-input-11-56dda6b7b4e9>\u001b[0m in \u001b[0;36m<module>\u001b[1;34m\u001b[0m\n\u001b[0;32m      5\u001b[0m \u001b[0mprint\u001b[0m\u001b[1;33m(\u001b[0m\u001b[0minfo\u001b[0m\u001b[1;33m(\u001b[0m\u001b[1;34m'kim'\u001b[0m\u001b[1;33m,\u001b[0m \u001b[1;34m'010-XXXX'\u001b[0m\u001b[1;33m)\u001b[0m\u001b[1;33m)\u001b[0m\u001b[1;33m\u001b[0m\u001b[1;33m\u001b[0m\u001b[0m\n\u001b[0;32m      6\u001b[0m \u001b[0mprint\u001b[0m\u001b[1;33m(\u001b[0m\u001b[0minfo\u001b[0m\u001b[1;33m(\u001b[0m\u001b[0mphone\u001b[0m \u001b[1;33m=\u001b[0m \u001b[1;34m'010-XXXX'\u001b[0m\u001b[1;33m,\u001b[0m \u001b[0mname\u001b[0m \u001b[1;33m=\u001b[0m \u001b[1;34m'kim'\u001b[0m\u001b[1;33m)\u001b[0m\u001b[1;33m)\u001b[0m\u001b[1;33m\u001b[0m\u001b[1;33m\u001b[0m\u001b[0m\n\u001b[1;32m----> 7\u001b[1;33m \u001b[0mprint\u001b[0m\u001b[1;33m(\u001b[0m\u001b[0minfo\u001b[0m\u001b[1;33m(\u001b[0m\u001b[0mname\u001b[0m \u001b[1;33m=\u001b[0m \u001b[1;34m'kim'\u001b[0m\u001b[1;33m)\u001b[0m\u001b[1;33m)\u001b[0m\u001b[1;33m\u001b[0m\u001b[1;33m\u001b[0m\u001b[0m\n\u001b[0m",
      "\u001b[1;31mTypeError\u001b[0m: info() missing 1 required positional argument: 'phone'"
     ]
    }
   ],
   "source": [
    "def info(name, phone, age = 19):\n",
    "    pass\n",
    "\n",
    "print(info('kim', 28, '010-XXXX'))\n",
    "print(info('kim', '010-XXXX'))\n",
    "print(info(phone = '010-XXXX', name = 'kim'))\n",
    "print(info(name = 'kim'))"
   ]
  },
  {
   "cell_type": "code",
   "execution_count": 3,
   "metadata": {},
   "outputs": [
    {
     "name": "stdout",
     "output_type": "stream",
     "text": [
      "[떡볶이, 짜장면, 라면, 피자, 맥주, 치킨, 삼겹살] 중 좋아하는 음식은? 피자\n",
      "<피자> 궁합 음식은 <피클> 입니다\n",
      "[떡볶이, 짜장면, 라면, 피자, 맥주, 치킨, 삼겹살] 중 좋아하는 음식은? 끝\n"
     ]
    }
   ],
   "source": [
    "while True:\n",
    "    food = input('[떡볶이, 짜장면, 라면, 피자, 맥주, 치킨, 삼겹살] 중 좋아하는 음식은? ')\n",
    "    if food == '떡볶이':\n",
    "        print('<떡볶이> 궁합 음식은 <튀김> 입니다')\n",
    "    elif food == '짜장면':\n",
    "        print('<짜장면> 궁합 음식은 <단무지> 입니다')\n",
    "    elif food == '라면':\n",
    "        print('<라면> 궁합 음식은 <김치> 입니다')\n",
    "    elif food == '피자':\n",
    "        print('<피자> 궁합 음식은 <피클> 입니다')\n",
    "    elif food == '맥주':\n",
    "        print('<맥주> 궁합 음식은 <??> 입니다')\n",
    "    elif food == '치킨':\n",
    "        print('<치킨> 궁합 음식은 <치킨무> 입니다.')\n",
    "    elif food == '삼겹살':\n",
    "        print('<삼겹살> 궁합 음식은 <소주> 입니다')\n",
    "    elif food == '끝':\n",
    "        break\n",
    "    else:\n",
    "        print('없음. 다시 입력해주세요')"
   ]
  },
  {
   "cell_type": "code",
   "execution_count": 10,
   "metadata": {},
   "outputs": [
    {
     "name": "stdout",
     "output_type": "stream",
     "text": [
      "[떡볶이, 짜장면, 라면, 피자, 맥주, 치킨, 삼겹살] 중 좋아하는 음식은? 떡볶이\n",
      "떡볶이 궁합 음식은 튀김 입니다\n",
      "[떡볶이, 짜장면, 라면, 피자, 맥주, 치킨, 삼겹살] 중 좋아하는 음식은? 끝\n"
     ]
    }
   ],
   "source": [
    "food_list = {'떡볶이':'튀김', '짜장면':'단무지', '라면':'김치', '피자':'피클', '맥주':'먹태', '치킨':'치킨무', '삼겹살':'소주'}\n",
    "while True:\n",
    "    food = input('[떡볶이, 짜장면, 라면, 피자, 맥주, 치킨, 삼겹살] 중 좋아하는 음식은? ')\n",
    "    if food in food_list :\n",
    "        print('%s 궁합 음식은 %s 입니다' %(food ,food_list[food]))\n",
    "    elif food == '끝':\n",
    "        break\n",
    "    else:\n",
    "        print('없음. 다시 입력해주세요')"
   ]
  },
  {
   "cell_type": "code",
   "execution_count": 5,
   "metadata": {},
   "outputs": [
    {
     "name": "stdout",
     "output_type": "stream",
     "text": [
      "문자열을 입력하세요: 즐거운 Python 프로그래밍\n",
      "내용을 거꾸로 출력 ==> 밍래그로프 nohtyP 운거즐\n"
     ]
    }
   ],
   "source": [
    "a = input('문자열을 입력하세요: ')\n",
    "print('내용을 거꾸로 출력 ==>',a[::-1])"
   ]
  },
  {
   "cell_type": "code",
   "execution_count": 8,
   "metadata": {},
   "outputs": [
    {
     "name": "stdout",
     "output_type": "stream",
     "text": [
      "문자열을 입력하세요: 내가 그의 이름을 불러주기 전에는 그는 다만 하나의 몸짓에 지나지 않았다. 내가 그의 이름을 불러주었을 때, 그는 내게로 와 꽃이 되었다 내가 그의 이름을 불러준 것처럼 나의 이 빛깔과 향기에 알맞은 누가 나의 이름을 불러다오. 그에게로 가서 나도 그의 꽃이 되고 싶다. 우리들은 모두 무엇이 되고 싶다. 나는 너에게 너는 나에게 잊혀지지 않는 하나의 눈짓이 되고 싶다\n",
      "Counter({' ': 56, '이': 9, '의': 8, '나': 8, '그': 7, '다': 7, '에': 6, '는': 6, '가': 5, '을': 5, '내': 4, '름': 4, '불': 4, '러': 4, '지': 4, '.': 4, '게': 4, '되': 4, '고': 3, '싶': 3, '주': 2, '기': 2, '하': 2, '짓': 2, '않': 2, '었': 2, '로': 2, '꽃': 2, '은': 2, '너': 2, '전': 1, '만': 1, '몸': 1, '았': 1, '때': 1, ',': 1, '와': 1, '준': 1, '것': 1, '처': 1, '럼': 1, '빛': 1, '깔': 1, '과': 1, '향': 1, '알': 1, '맞': 1, '누': 1, '오': 1, '서': 1, '도': 1, '우': 1, '리': 1, '들': 1, '모': 1, '두': 1, '무': 1, '엇': 1, '잊': 1, '혀': 1, '눈': 1})\n"
     ]
    }
   ],
   "source": [
    "import collections\n",
    "\n",
    "a = input('문자열을 입력하세요: ')\n",
    "b = list(a)\n",
    "c = collections.Counter(b)\n",
    "print(c)"
   ]
  },
  {
   "cell_type": "code",
   "execution_count": 10,
   "metadata": {},
   "outputs": [
    {
     "data": {
      "text/plain": [
       "{0: 'TEANLAB',\n",
       " 1: 'is',\n",
       " 2: 'an',\n",
       " 3: 'academic',\n",
       " 4: 'institute',\n",
       " 5: 'located',\n",
       " 6: 'in',\n",
       " 7: 'South',\n",
       " 8: 'Korea.'}"
      ]
     },
     "execution_count": 10,
     "metadata": {},
     "output_type": "execute_result"
    }
   ],
   "source": [
    "{i:j for i,j in enumerate('TEANLAB is an academic institute located in South Korea.'.split())}"
   ]
  },
  {
   "cell_type": "code",
   "execution_count": 11,
   "metadata": {},
   "outputs": [
    {
     "name": "stdout",
     "output_type": "stream",
     "text": [
      "a1 b1\n",
      "a2 b2\n",
      "a3 b3\n"
     ]
    }
   ],
   "source": [
    "alist = ['a1', 'a2', 'a3']\n",
    "blist = ['b1', 'b2', 'b3']\n",
    "\n",
    "for a,b in zip(alist, blist):\n",
    "    print(a,b)"
   ]
  },
  {
   "cell_type": "code",
   "execution_count": 17,
   "metadata": {},
   "outputs": [
    {
     "name": "stdout",
     "output_type": "stream",
     "text": [
      "Max - y 30\n",
      "Min - x 10\n"
     ]
    }
   ],
   "source": [
    "my_dict = {'x':10, 'y':30, 'z': 20}\n",
    "\n",
    "def f1(x):\n",
    "    return my_dict[x]\n",
    "\n",
    "key_max = max(my_dict.keys(), key=f1)\n",
    "key_min = min(my_dict.keys(), key=(lambda k: my_dict[k]))\n",
    "print('Max -',key_max,my_dict[key_max])\n",
    "print('Min -',key_min,my_dict[key_min])"
   ]
  },
  {
   "cell_type": "code",
   "execution_count": 14,
   "metadata": {},
   "outputs": [
    {
     "name": "stdout",
     "output_type": "stream",
     "text": [
      "5\n"
     ]
    }
   ],
   "source": [
    "f = lambda x, y: x + y\n",
    "print(f(1,4))"
   ]
  },
  {
   "cell_type": "code",
   "execution_count": 15,
   "metadata": {},
   "outputs": [
    {
     "name": "stdout",
     "output_type": "stream",
     "text": [
      "[1, 4, 9, 16, 25]\n"
     ]
    }
   ],
   "source": [
    "ex = [1,2,3,4,5]\n",
    "f = lambda x : x **2\n",
    "print(list(map(f,ex)))"
   ]
  },
  {
   "cell_type": "code",
   "execution_count": 19,
   "metadata": {},
   "outputs": [
    {
     "name": "stdout",
     "output_type": "stream",
     "text": [
      "10 1 2 3\n"
     ]
    }
   ],
   "source": [
    "def asterisk_test(a,b,c,d):\n",
    "    print(a,b,c,d)\n",
    "\n",
    "data = {\"b\":1, \"c\":2, \"d\":3}\n",
    "    \n",
    "asterisk_test(10,**data)"
   ]
  },
  {
   "cell_type": "code",
   "execution_count": 27,
   "metadata": {
    "scrolled": true
   },
   "outputs": [
    {
     "name": "stdout",
     "output_type": "stream",
     "text": [
      "w 500\n",
      "z 300\n",
      "y 200\n",
      "x 100\n",
      "w 500\n",
      "x 100\n",
      "y 200\n",
      "z 300\n"
     ]
    }
   ],
   "source": [
    "from collections import OrderedDict\n",
    "\n",
    "def sort_by_value(t): \n",
    "    return t[1]\n",
    "\n",
    "d = dict() \n",
    "d['x'] = 100 \n",
    "d['y'] = 200 \n",
    "d['z'] = 300 \n",
    "d['w'] = 500 \n",
    "\n",
    "for k, v in OrderedDict(sorted(d.items(), key=sort_by_value, reverse = True)).items():\n",
    "    print(k,v)\n",
    "\n",
    "for k, v in OrderedDict(sorted(d.items())).items():\n",
    "    print(k,v)"
   ]
  },
  {
   "cell_type": "code",
   "execution_count": null,
   "metadata": {},
   "outputs": [],
   "source": [
    "import collections\n",
    "\n",
    "a = input('문자열을 입력하세요: ')\n",
    "b = list(a)\n",
    "c = collections.Counter(b)\n",
    "print(c)"
   ]
  },
  {
   "cell_type": "code",
   "execution_count": 60,
   "metadata": {},
   "outputs": [
    {
     "ename": "SyntaxError",
     "evalue": "invalid token (<ipython-input-60-c710294b762f>, line 12)",
     "output_type": "error",
     "traceback": [
      "\u001b[1;36m  File \u001b[1;32m\"<ipython-input-60-c710294b762f>\"\u001b[1;36m, line \u001b[1;32m12\u001b[0m\n\u001b[1;33m    if k == [a-zA-Z0-9_] or k == ' ' or k == ',' or k == '.' or k == ':' :\u001b[0m\n\u001b[1;37m                      ^\u001b[0m\n\u001b[1;31mSyntaxError\u001b[0m\u001b[1;31m:\u001b[0m invalid token\n"
     ]
    }
   ],
   "source": [
    "import collections\n",
    "import re\n",
    "\n",
    "def sort_by_value(t): \n",
    "    return t[1]\n",
    "\n",
    "a = input('문자열을 입력하세요: ')\n",
    "b = list(a)\n",
    "d = collections.Counter(b)\n",
    "\n",
    "for k, v in collections.OrderedDict(sorted(d.items(), key=sort_by_value, reverse = True)).items():\n",
    "    if k == re.compile('[a-zA-Z0-9_]') or k == ' ' or k == ',' or k == '.' or k == ':' :\n",
    "        continue\n",
    "    print(k,v)"
   ]
  },
  {
   "cell_type": "code",
   "execution_count": 33,
   "metadata": {},
   "outputs": [
    {
     "name": "stdout",
     "output_type": "stream",
     "text": [
      "0\n",
      "<class 'int'>\n",
      "<class 'collections.defaultdict'>\n"
     ]
    }
   ],
   "source": [
    "import collections\n",
    "\n",
    "d = dict()\n",
    "\n",
    "d = collections.defaultdict(lambda:0)\n",
    "print(d['first'])\n",
    "print(type(d['first']))\n",
    "print(type(d))"
   ]
  },
  {
   "cell_type": "code",
   "execution_count": 35,
   "metadata": {},
   "outputs": [
    {
     "name": "stdout",
     "output_type": "stream",
     "text": [
      "dict_items([('yellow', [1, 3]), ('blue', [2, 4]), ('red', [1])])\n"
     ]
    }
   ],
   "source": [
    "import collections\n",
    "\n",
    "s = [('yellow',1), ('blue',2),('yellow',3),('blue',4),('red',1)]\n",
    "\n",
    "d = collections.defaultdict(list)\n",
    "\n",
    "for k,v in s:\n",
    "    d[k].append(v)\n",
    "    \n",
    "print(d.items())"
   ]
  },
  {
   "cell_type": "code",
   "execution_count": 54,
   "metadata": {},
   "outputs": [
    {
     "name": "stdout",
     "output_type": "stream",
     "text": [
      "Help on function compile in module re:\n",
      "\n",
      "compile(pattern, flags=0)\n",
      "    Compile a regular expression pattern, returning a Pattern object.\n",
      "\n"
     ]
    }
   ],
   "source": [
    "import re\n",
    "\n",
    "help(re.compile)"
   ]
  },
  {
   "cell_type": "code",
   "execution_count": 61,
   "metadata": {
    "scrolled": false
   },
   "outputs": [
    {
     "name": "stdout",
     "output_type": "stream",
     "text": [
      "Counter({'d': 12, 'c': 10, 'b': 8})\n",
      "Counter({'d': 4, 'c': 3, 'b': 2})\n",
      "Counter({'d': 8, 'c': 7, 'b': 6})\n"
     ]
    }
   ],
   "source": [
    "import collections\n",
    "\n",
    "c = collections.Counter(a=-5, b=6, c=7, d=8)\n",
    "d = collections.Counter(a=-1, b=2, c=3, d=4)\n",
    "\n",
    "print(c+d)\n",
    "print(c&d)\n",
    "print(c|d)"
   ]
  },
  {
   "cell_type": "code",
   "execution_count": 16,
   "metadata": {},
   "outputs": [
    {
     "name": "stdout",
     "output_type": "stream",
     "text": [
      "문자열을 입력하세요: Now I long for yesterdayYesterday all my troubles seemed so far away Now it looks like they're here to stay Oh, I believe in yesterday Suddenly, I'm not half the man I used to be There's a shadow hanging over me Oh, yesterday came suddenly Why she had to go I don't know She wouldn't say I said something wrong Now I long for yesterday Yesterday love was such an easy game to play Now I need a place to hide away Oh, I believe in yesterday Why she had to go I don't know She wouldn't say I said something wrong Now I long for yesterday\n",
      "i 11\n",
      "to 6\n",
      "yesterday 6\n",
      "now 5\n",
      "she 4\n",
      "long 3\n",
      "for 3\n",
      "oh, 3\n",
      "away 2\n",
      "believe 2\n",
      "in 2\n",
      "a 2\n",
      "why 2\n",
      "had 2\n",
      "go 2\n",
      "don't 2\n",
      "know 2\n",
      "wouldn't 2\n",
      "say 2\n",
      "said 2\n",
      "something 2\n",
      "wrong 2\n",
      "yesterdayyesterday 1\n",
      "all 1\n",
      "my 1\n",
      "troubles 1\n",
      "seemed 1\n",
      "so 1\n",
      "far 1\n",
      "it 1\n",
      "looks 1\n",
      "like 1\n",
      "they're 1\n",
      "here 1\n",
      "stay 1\n",
      "suddenly, 1\n",
      "i'm 1\n",
      "not 1\n",
      "half 1\n",
      "the 1\n",
      "man 1\n",
      "used 1\n",
      "be 1\n",
      "there's 1\n",
      "shadow 1\n",
      "hanging 1\n",
      "over 1\n",
      "me 1\n",
      "came 1\n",
      "suddenly 1\n",
      "love 1\n",
      "was 1\n",
      "such 1\n",
      "an 1\n",
      "easy 1\n",
      "game 1\n",
      "play 1\n",
      "need 1\n",
      "place 1\n",
      "hide 1\n"
     ]
    }
   ],
   "source": [
    "import collections\n",
    "\n",
    "def sort_by_value(t): \n",
    "    return t[1]\n",
    "\n",
    "a = input('문자열을 입력하세요: ')\n",
    "b = a.lower().split()\n",
    "c = list(b)\n",
    "d = collections.Counter(c)\n",
    "\n",
    "for k, v in collections.OrderedDict(sorted(d.items(), key=sort_by_value, reverse = True)).items():\n",
    "    if k == ',' or k == '.' or k == ':' :\n",
    "        continue\n",
    "    print(k,v)"
   ]
  },
  {
   "cell_type": "markdown",
   "metadata": {},
   "source": [
    "### [코드 실습 4 -random 모듈 ]  로또 번호 추첨처럼 1~45의 숫자 중에서 중복 없이 6개를 뽑는 프로그램을 구현하시오\n",
    "### [Sample Run] \n",
    "### ** 로또 추첨을 시작합니다. **\n",
    "### 추첨된 로또 번호 --> 2, 6, 8, 27, 32, 41"
   ]
  },
  {
   "cell_type": "code",
   "execution_count": 44,
   "metadata": {},
   "outputs": [
    {
     "name": "stdout",
     "output_type": "stream",
     "text": [
      "** 로또 추첨을 시작합니다. **\n",
      "추첨된 로또 번호 --> None\n",
      "추첨된 로또 번호 --> [1, 13, 17, 24, 30, 34]\n"
     ]
    }
   ],
   "source": [
    "import random\n",
    "\n",
    "while True:\n",
    "    lotto_list = list()\n",
    "    for i in range(6):\n",
    "        lotto = random.randint(1,45)\n",
    "        lotto_list.append(lotto)\n",
    "    if len(set(lotto_list)) == 6:\n",
    "        break\n",
    "Alotto_list = sorted(lotto_list)\n",
    "print('** 로또 추첨을 시작합니다. **')\n",
    "print('추첨된 로또 번호 -->',lotto_list.sort())\n",
    "print('추첨된 로또 번호 -->',Alotto_list)"
   ]
  },
  {
   "cell_type": "markdown",
   "metadata": {},
   "source": [
    " [코드 실습 5 - sorting, ranking] 물건을 수송하는 기차 여러 대의 수송량을 합산해 순위를 매기는 프로그램이다.\n",
    "예들 들어 각 기차의 수송량 목록이 (토마스 5톤), (제임스 4톤), (토마스 2톤) 등으로 되어 있다면 이 목록의 합계를 내서 [토마스 7톤 1등] [ 제임스 4톤 2등] 이 출력되도록 한다. 또 같은 순위가 여러번 나오면 같은 순위만큼 건너뛰고 다음 순위를 출력한다.\n",
    "예로 1등, 2등, 2등, 4등,...방식으로 3등은 건너뛰고 출력한다.\n",
    "[Sample Run]  \n",
    "기차 수송량 목록 ==> [('토마스', 5), ('헨리', 8), ('에드워드', 9), ('에밀리', 5), ('토마스', 4), ('헨리', 7), ('토마스', 3), ('에밀리', 8), ('퍼시', 5), ('고든', 13)]\n",
    "--------------------------------------\n",
    "기차          총수송량    순위\n",
    "-------------------------------------\n",
    "헨리                 15         1\n",
    "에밀리              13         2\n",
    "고든                 13         2\n",
    "토마스              12         4\n",
    "에드워드            9          5\n",
    "퍼시                  5          6\n",
    "\n"
   ]
  },
  {
   "cell_type": "code",
   "execution_count": 28,
   "metadata": {},
   "outputs": [
    {
     "name": "stdout",
     "output_type": "stream",
     "text": [
      "defaultdict(<class 'list'>, {'토마스': [5, 4, 3], '헨리': [8, 7], '에드워드': [9], '에밀리': [5, 8], '퍼시': [5], '고든': [13]})\n"
     ]
    }
   ],
   "source": [
    "T_traffic_list = [('토마스', 5), ('헨리', 8), ('에드워드', 9), ('에밀리', 5), ('토마스', 4), ('헨리', 7), ('토마스', 3), ('에밀리', 8), ('퍼시', 5), ('고든', 13)]\n",
    "\n",
    "import collections\n",
    "\n",
    "d = collections.defaultdict(list)\n",
    "\n",
    "for x,y in T_traffic_list:\n",
    "    d[x].append(y)\n",
    "    \n",
    "print(d)"
   ]
  },
  {
   "cell_type": "code",
   "execution_count": 47,
   "metadata": {},
   "outputs": [
    {
     "name": "stdout",
     "output_type": "stream",
     "text": [
      "Jinhyun\n",
      "MF\n",
      "10\n"
     ]
    }
   ],
   "source": [
    "class SoccerPlayer(object): \n",
    "    def __init__(self, name, position, back_number): \n",
    "        self.name = name \n",
    "        self.position = position \n",
    "        self.back_number = back_number\n",
    "        \n",
    "jinhyun = SoccerPlayer(\"Jinhyun\", \"MF\", 10)\n",
    "\n",
    "print(jinhyun.name)\n",
    "print(jinhyun.position)  \n",
    "print(jinhyun.back_number)  "
   ]
  },
  {
   "cell_type": "code",
   "execution_count": 60,
   "metadata": {},
   "outputs": [
    {
     "name": "stdout",
     "output_type": "stream",
     "text": [
      "이준섭 80 85 90 95\n",
      "총점: 350\n",
      "총점: 87.5\n"
     ]
    }
   ],
   "source": [
    "class Student(object):\n",
    "    def __init__(self, name, python, web, db, java):\n",
    "        self.name = name\n",
    "        self.python = python\n",
    "        self.web = web\n",
    "        self.db = db\n",
    "        self.java = java\n",
    "    \n",
    "    def total(self):\n",
    "        return self.python+self.web+self.db+self.java\n",
    "        \n",
    "    def average(self):\n",
    "        return self.total()/4\n",
    "    \n",
    "    def __str__(self):\n",
    "        return self.name + \" \" +str(self.python) +\" \"+ str(self.web) +\" \"+ str(self.db) +\" \"+ str(self.java)\n",
    "\n",
    "Lee = Student('이준섭', 80, 85, 90, 95)\n",
    "\n",
    "print(Lee)\n",
    "print('총점:', Lee.total())\n",
    "print('총점:', Lee.average())"
   ]
  },
  {
   "cell_type": "code",
   "execution_count": null,
   "metadata": {},
   "outputs": [],
   "source": []
  }
 ],
 "metadata": {
  "kernelspec": {
   "display_name": "Python 3",
   "language": "python",
   "name": "python3"
  },
  "language_info": {
   "codemirror_mode": {
    "name": "ipython",
    "version": 3
   },
   "file_extension": ".py",
   "mimetype": "text/x-python",
   "name": "python",
   "nbconvert_exporter": "python",
   "pygments_lexer": "ipython3",
   "version": "3.7.6"
  }
 },
 "nbformat": 4,
 "nbformat_minor": 4
}
