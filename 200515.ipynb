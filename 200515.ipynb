{
 "cells": [
  {
   "cell_type": "code",
   "execution_count": 2,
   "metadata": {},
   "outputs": [
    {
     "name": "stdout",
     "output_type": "stream",
     "text": [
      "1~10까지의 누접합: 55\n"
     ]
    }
   ],
   "source": [
    "hap, cnt = 0,0\n",
    "while cnt<11:\n",
    "    hap += cnt\n",
    "    cnt+= 1\n",
    "print(\"1~10까지의 누접합:\", hap)"
   ]
  },
  {
   "cell_type": "code",
   "execution_count": 3,
   "metadata": {},
   "outputs": [
    {
     "name": "stdout",
     "output_type": "stream",
     "text": [
      "21 42 63 84 \n",
      "3과 7의 공배수개수 : 4\n"
     ]
    }
   ],
   "source": [
    "cnt  = 0 ;\n",
    "for  i in range(1, 101):\n",
    "    if i%3==0 and i%7==0:\n",
    "        cnt = cnt+1\n",
    "        print(i , end=\" \")\n",
    "print()\n",
    "print(\"3과 7의 공배수개수 :\" , cnt)"
   ]
  },
  {
   "cell_type": "code",
   "execution_count": 10,
   "metadata": {},
   "outputs": [
    {
     "name": "stdout",
     "output_type": "stream",
     "text": [
      "21 42 63 84 \n",
      "3과 7의 공배수개수 : 4\n"
     ]
    }
   ],
   "source": [
    "cnt, a, = 0, 1\n",
    "while a<101:\n",
    "    if a%3==0 and a%7==0:\n",
    "        cnt = cnt+1\n",
    "        print(a , end=\" \")\n",
    "    a += 1\n",
    "print()\n",
    "print(\"3과 7의 공배수개수 :\" , cnt)"
   ]
  },
  {
   "cell_type": "code",
   "execution_count": 13,
   "metadata": {},
   "outputs": [
    {
     "name": "stdout",
     "output_type": "stream",
     "text": [
      "2550\n"
     ]
    }
   ],
   "source": [
    "a = 0\n",
    "for i in range(0,101):\n",
    "    if i%2 == 0:\n",
    "        a +=i\n",
    "print(a)"
   ]
  },
  {
   "cell_type": "code",
   "execution_count": 15,
   "metadata": {},
   "outputs": [
    {
     "name": "stdout",
     "output_type": "stream",
     "text": [
      "2550\n"
     ]
    }
   ],
   "source": [
    "a, b = 0 , 0\n",
    "while b <101:\n",
    "    if b%2 == 0:\n",
    "        a +=b\n",
    "    b +=1\n",
    "print(a)"
   ]
  },
  {
   "cell_type": "code",
   "execution_count": 19,
   "metadata": {},
   "outputs": [
    {
     "name": "stdout",
     "output_type": "stream",
     "text": [
      "63\n"
     ]
    }
   ],
   "source": [
    "a = 0\n",
    "for i in range(1,1001):\n",
    "    if i%2 != 0:\n",
    "        a +=i\n",
    "        if a >1000:\n",
    "           break\n",
    "print(i)"
   ]
  },
  {
   "cell_type": "code",
   "execution_count": 21,
   "metadata": {},
   "outputs": [
    {
     "name": "stdout",
     "output_type": "stream",
     "text": [
      "63\n"
     ]
    }
   ],
   "source": [
    "a, b = 0 , 0\n",
    "while b <1001:\n",
    "    if b%2 != 0:\n",
    "        a +=b\n",
    "        if a >1000:\n",
    "           break\n",
    "    b+=1\n",
    "print(i)"
   ]
  },
  {
   "cell_type": "code",
   "execution_count": 22,
   "metadata": {},
   "outputs": [
    {
     "name": "stdout",
     "output_type": "stream",
     "text": [
      "1\n",
      "3\n",
      "5\n",
      "7\n",
      "9\n"
     ]
    }
   ],
   "source": [
    "for i in range(10):\n",
    "    if i%2 ==0:\n",
    "        continue\n",
    "    print(i)"
   ]
  },
  {
   "cell_type": "code",
   "execution_count": 24,
   "metadata": {},
   "outputs": [
    {
     "name": "stdout",
     "output_type": "stream",
     "text": [
      "(0,0) (0,1) (0,2) (0,3) (0,4) \n",
      "(1,0) (1,1) (1,2) (1,3) (1,4) \n",
      "(2,0) (2,1) (2,2) (2,3) (2,4) \n",
      "(3,0) (3,1) (3,2) (3,3) (3,4) \n",
      "(4,0) (4,1) (4,2) (4,3) (4,4) \n"
     ]
    }
   ],
   "source": [
    "for row in range(5):\n",
    "    for col in range(5):\n",
    "        print(\"(%d,%d)\" %(row,col), end=\" \")\n",
    "    print()"
   ]
  },
  {
   "cell_type": "code",
   "execution_count": null,
   "metadata": {},
   "outputs": [],
   "source": [
    "gugu = input(\"구구단 몇단을 계산할까?\")\n",
    "print(\"(구구단 %s를 계산한다.)\"%(gugu))\n",
    "for i in range(1,10):\n",
    "    print(\"%s X\"%(gugu),i,\"=\",i*int(gugu))"
   ]
  },
  {
   "cell_type": "code",
   "execution_count": null,
   "metadata": {
    "scrolled": true
   },
   "outputs": [],
   "source": [
    "gugu = input(\"구구단 몇단을 계산할까?\")\n",
    "print(\"(구구단 %s를 계산한다.)\"%(gugu))\n",
    "for i in range(1,10):\n",
    "    print(\"%s X %d = %2d\"%(gugu,i,i*int(gugu)))"
   ]
  },
  {
   "cell_type": "code",
   "execution_count": null,
   "metadata": {},
   "outputs": [],
   "source": [
    "gugu = input(\"구구단 몇단을 계산할까?\")\n",
    "print(\"(구구단 %s를 계산한다.)\"%(gugu))\n",
    "for i in range(9,0,-1):\n",
    "    print(\"%s X %d = %2d\"%(gugu,i,i*int(gugu)))"
   ]
  },
  {
   "cell_type": "code",
   "execution_count": null,
   "metadata": {},
   "outputs": [],
   "source": [
    "for row in range(9,1,-1):\n",
    "    for col in range(2,10):\n",
    "        print(\"%d X %d = %2d\" %(col,row,col*row), end=\"      \")\n",
    "    print()"
   ]
  },
  {
   "cell_type": "code",
   "execution_count": null,
   "metadata": {},
   "outputs": [],
   "source": [
    "hart = \"♥\"\n",
    "san = input(\"숫자를 여러 개 입력하세요 ; \")\n",
    "list(san)\n",
    "for i in range(list):\n",
    "    print(hart*int(i))"
   ]
  },
  {
   "cell_type": "code",
   "execution_count": 1,
   "metadata": {},
   "outputs": [
    {
     "name": "stdout",
     "output_type": "stream",
     "text": [
      "숫자를 여러 개 입력하세요 ; 1684\n",
      "♥\n",
      "♥♥♥♥♥♥\n",
      "♥♥♥♥♥♥♥♥\n",
      "♥♥♥♥\n"
     ]
    }
   ],
   "source": [
    "san = input(\"숫자를 여러 개 입력하세요 ; \")\n",
    "san2 = list(san)\n",
    "for i in san2:\n",
    "    print(\"♥\"*int(i))"
   ]
  },
  {
   "cell_type": "code",
   "execution_count": null,
   "metadata": {},
   "outputs": [],
   "source": [
    "hart = \"♥\"\n",
    "san = input(\"숫자를 여러 개 입력하세요 ; \")\n",
    "for i in range(len(san)):\n",
    "    print(hart*int(san[i]))"
   ]
  },
  {
   "cell_type": "code",
   "execution_count": 3,
   "metadata": {
    "scrolled": true
   },
   "outputs": [
    {
     "name": "stdout",
     "output_type": "stream",
     "text": [
      "숫자를 여러 개 입력하세요 : 147\n",
      "♥ \n",
      "♥ ♥ ♥ ♥ \n",
      "♥ ♥ ♥ ♥ ♥ ♥ ♥ \n"
     ]
    }
   ],
   "source": [
    "nums = input(\"숫자를 여러 개 입력하세요 : \")\n",
    "for  ch in nums:\n",
    "    for i in range(int(ch)):\n",
    "        print(\"♥\" , end=\" \")\n",
    "    print()"
   ]
  },
  {
   "cell_type": "code",
   "execution_count": 6,
   "metadata": {},
   "outputs": [
    {
     "name": "stdout",
     "output_type": "stream",
     "text": [
      "숫자를 여러 개 입력하세요 : 144\n",
      "♥\n",
      "♥♥♥♥\n",
      "♥♥♥♥\n"
     ]
    }
   ],
   "source": [
    "nums = input(\"숫자를 여러 개 입력하세요 : \")\n",
    "for  ch in nums:\n",
    "    for i in range(int(ch)):\n",
    "        print(\"♥\",end=\"\")\n",
    "    print()"
   ]
  },
  {
   "cell_type": "code",
   "execution_count": 2,
   "metadata": {},
   "outputs": [
    {
     "name": "stdout",
     "output_type": "stream",
     "text": [
      "숫자를 여러 개 입력하세요 : 1455\n",
      "1\n",
      "4\n",
      "5\n",
      "5\n"
     ]
    }
   ],
   "source": [
    "nums = input(\"숫자를 여러 개 입력하세요 : \")\n",
    "for  ch in nums:\n",
    "    print(ch)"
   ]
  },
  {
   "cell_type": "code",
   "execution_count": null,
   "metadata": {},
   "outputs": [],
   "source": [
    "star = \"★\"\n",
    "san = input(\"숫자를 여러 개 입력하세요 ; \")\n",
    "san2 = list(san)\n",
    "for i in san2:\n",
    "    print(2*star*int(i))"
   ]
  },
  {
   "cell_type": "code",
   "execution_count": 86,
   "metadata": {
    "scrolled": true
   },
   "outputs": [
    {
     "name": "stdout",
     "output_type": "stream",
     "text": [
      "gnimmargorp nohtyp\n"
     ]
    }
   ],
   "source": [
    "p = \"python programming\"\n",
    "print(p[::-1])"
   ]
  },
  {
   "cell_type": "code",
   "execution_count": 98,
   "metadata": {
    "scrolled": true
   },
   "outputs": [
    {
     "name": "stdout",
     "output_type": "stream",
     "text": [
      "gnimmargorp nohtyp\n"
     ]
    }
   ],
   "source": [
    "s =\"python programming\"\n",
    "print (''.join(reversed(s)))"
   ]
  },
  {
   "cell_type": "code",
   "execution_count": 99,
   "metadata": {},
   "outputs": [
    {
     "name": "stdout",
     "output_type": "stream",
     "text": [
      "gnimmargorp nohtyp\n"
     ]
    }
   ],
   "source": [
    "print(\"python programming\"[::-1])"
   ]
  },
  {
   "cell_type": "code",
   "execution_count": 93,
   "metadata": {},
   "outputs": [
    {
     "name": "stdout",
     "output_type": "stream",
     "text": [
      "숫자를 여러 개 입력하세요 ; 465d\n",
      "<class 'str'>\n",
      "<class 'int'>\n",
      "4\n",
      "465d\n"
     ]
    }
   ],
   "source": [
    "p = input(\"숫자를 여러 개 입력하세요 ; \")\n",
    "print(type(p))\n",
    "print(type(len(p)))\n",
    "print(len(p))\n",
    "print(p)"
   ]
  },
  {
   "cell_type": "code",
   "execution_count": 100,
   "metadata": {},
   "outputs": [
    {
     "name": "stdout",
     "output_type": "stream",
     "text": [
      "문자열 입력 --> 1\n",
      "숫자제거 --> "
     ]
    }
   ],
   "source": [
    "strr = input(\"문자열 입력 --> \")\n",
    "print(\"숫자제거 --> \", end = \"\")\n",
    "for i in range(len(strr)):\n",
    "    if(strr[i] >= \"0\" and strr[i] <= \"9\"):\n",
    "        continue\n",
    "    print(strr[i],end = \"\")"
   ]
  },
  {
   "cell_type": "code",
   "execution_count": 105,
   "metadata": {},
   "outputs": [
    {
     "name": "stdout",
     "output_type": "stream",
     "text": [
      "문자열 입력 --> 451\n",
      "1\n"
     ]
    }
   ],
   "source": [
    "strr = input(\"문자열 입력 --> \")\n",
    "print(strr[2])"
   ]
  },
  {
   "cell_type": "code",
   "execution_count": 106,
   "metadata": {},
   "outputs": [
    {
     "name": "stdout",
     "output_type": "stream",
     "text": [
      "문자열을 입력하세요 : Machine Learning을 위한 파이썬 3.6  ^___^\n",
      "mACHINE lEARNING을 위한 파이썬 3.6  ^___^\n"
     ]
    }
   ],
   "source": [
    "strr = input(\"문자열을 입력하세요 : \")\n",
    "change = \"\"\n",
    "\n",
    "for i in range(len(strr)):\n",
    "    if(strr[i] >= \"A\" and strr[i] <= \"Z\"):\n",
    "        change = change + strr[i].lower()\n",
    "\n",
    "    elif(strr[i] >= \"a\" and strr[i] <= \"z\"):\n",
    "        change = change + strr[i].upper()\n",
    "\n",
    "    else:\n",
    "        change = change + strr[i]\n",
    "\n",
    "print(change)"
   ]
  },
  {
   "cell_type": "code",
   "execution_count": 107,
   "metadata": {},
   "outputs": [
    {
     "name": "stdout",
     "output_type": "stream",
     "text": [
      "문자열을 입력하세요 : Machine Learning을 위한 파이썬 3.6  ^___^\n",
      "대소문자 변환 결과  --> mACHINE lEARNING을 위한 파이썬 #.#  ^___^\n"
     ]
    }
   ],
   "source": [
    "inStr, outStr=\"\", \"\"\n",
    "ch = \"\"\n",
    "count, i = 0,0\n",
    "\n",
    "## 메인(main) 코드 부분\n",
    "inStr = input(\"문자열을 입력하세요 : \")\n",
    "count = len(inStr)\n",
    "\n",
    "for i in range(0, count) :\n",
    "    ch = inStr[i]\n",
    "    if ( ord(ch) >= ord(\"A\") and ord(ch) <= ord(\"Z\")) :\n",
    "        newCh = ch.lower()\n",
    "    elif ( ord(ch) >= ord(\"a\") and ord(ch) <= ord(\"z\")) :\n",
    "        newCh = ch.upper()\n",
    "    elif ( ord(ch) >= ord(\"0\") and ord(ch) <= ord(\"9\")) :\n",
    "        newCh = '#'\n",
    "    else :\n",
    "        newCh = ch\n",
    "\n",
    "    outStr += newCh\n",
    "\n",
    "print(\"대소문자 변환 결과  --> %s\" % outStr)"
   ]
  },
  {
   "cell_type": "code",
   "execution_count": 8,
   "metadata": {},
   "outputs": [
    {
     "name": "stdout",
     "output_type": "stream",
     "text": [
      "True\n",
      "False\n",
      "True\n",
      "False\n"
     ]
    }
   ],
   "source": [
    "lst = [1, 2, 3, 4]\n",
    "lc = lst.copy( ) \n",
    "print(lc == lst ) \n",
    "print(lc is lst )\n",
    "ld = list ( lst ) \n",
    "print( ld == lst ) \n",
    "print( ld is lst )\n"
   ]
  },
  {
   "cell_type": "code",
   "execution_count": 16,
   "metadata": {},
   "outputs": [
    {
     "name": "stdout",
     "output_type": "stream",
     "text": [
      "[[1, 2, 3, 4], [1, 2, 3, 4]]\n",
      "[[1, 2, 3, 4], [1, 2, 3, 4]]\n",
      "2412033394888\n",
      "2412043972104\n",
      "2412043407688 2412043407688 2412043407688\n",
      "[[999, 2, 3, 4], [999, 2, 3, 4]]\n"
     ]
    }
   ],
   "source": [
    "import copy \n",
    "lst = [1, 2, 3, 4] \n",
    "ll = [ lst, lst ] \n",
    "print( ll )\n",
    "lc = copy.deepcopy(ll)\n",
    "print( lc )\n",
    "print(id(ll))\n",
    "print(id(lc))\n",
    "lc[0][0] = 999 \n",
    "print( id( lst ), id( ll[0] ), id( ll[1] ) ) \n",
    "print(lc)"
   ]
  },
  {
   "cell_type": "code",
   "execution_count": 19,
   "metadata": {},
   "outputs": [
    {
     "data": {
      "text/plain": [
       "['a', 'Andrew', 'from', 'is', 'string', 'test', 'This']"
      ]
     },
     "execution_count": 19,
     "metadata": {},
     "output_type": "execute_result"
    }
   ],
   "source": [
    "sorted(\"This is a test string from Andrew\".split(), key=str.lower)"
   ]
  },
  {
   "cell_type": "code",
   "execution_count": 20,
   "metadata": {},
   "outputs": [
    {
     "data": {
      "text/plain": [
       "['Andrew', 'This', 'a', 'from', 'is', 'string', 'test']"
      ]
     },
     "execution_count": 20,
     "metadata": {},
     "output_type": "execute_result"
    }
   ],
   "source": [
    "sorted(\"This is a test string from Andrew\".split())"
   ]
  },
  {
   "cell_type": "code",
   "execution_count": 32,
   "metadata": {},
   "outputs": [
    {
     "name": "stdout",
     "output_type": "stream",
     "text": [
      "[47.0, 74.0, 51.0, 60.0, 90.0]\n"
     ]
    }
   ],
   "source": [
    "kor_score = [49, 80, 20, 100, 80]\n",
    "math_score = [43, 60, 85, 30, 90]\n",
    "eng_score = [49, 82, 48, 50, 100]\n",
    "midterm_score = [kor_score, math_score, eng_score]\n",
    "\n",
    "student_score = [0, 0, 0, 0, 0]\n",
    "\n",
    "i = 0\n",
    "for subject in midterm_score:\n",
    "    for score in subject:\n",
    "        student_score[i] += score                   # 학생마다 개별로 교과 점수를 저장\n",
    "        i += 1                                            # 학생 인덱스 구분\n",
    "    i = 0                                                  # 과목이 바뀔 때 학생 인덱스 초기화\n",
    "else:\n",
    "    a, b, c, d, e = student_score                    # 학생별 점수를 언패킹\n",
    "    student_average = [a/3, b/3, c/3, d/3, e/3]\n",
    "    print(student_average)  "
   ]
  },
  {
   "cell_type": "code",
   "execution_count": 33,
   "metadata": {},
   "outputs": [
    {
     "name": "stdout",
     "output_type": "stream",
     "text": [
      "[47.0, 74.0, 51.0, 60.0, 90.0]\n"
     ]
    }
   ],
   "source": [
    "kor_score = [49, 80, 20, 100, 80]\n",
    "math_score = [43, 60, 85, 30, 90]\n",
    "eng_score = [49, 82, 48, 50, 100]\n",
    "midterm_score = [kor_score, math_score, eng_score]\n",
    " \n",
    "student_score = [0, 0, 0, 0, 0]\n",
    "\n",
    "for x in range(len(kor_score)):\n",
    "    value = 0\n",
    "    for y in range(len(midterm_score)):\n",
    "        value += midterm_score[y][x] \n",
    "\n",
    "    student_score[x] = value / len(midterm_score)\n",
    "\n",
    "print(student_score)\n"
   ]
  },
  {
   "cell_type": "code",
   "execution_count": 40,
   "metadata": {},
   "outputs": [
    {
     "name": "stdout",
     "output_type": "stream",
     "text": [
      "Input a word : python\n",
      "['p', 'y', 't', 'h', 'o', 'n']\n",
      "['n', 'o', 'h', 't', 'y', 'p']\n",
      "nohtyp"
     ]
    }
   ],
   "source": [
    "mod = input(\"Input a word : \")\n",
    "mod2 = list(mod)\n",
    "print(mod2)\n",
    "print(mod2[::-1])\n",
    "for i in mod2[::-1]:\n",
    "    print(i, end =\"\")"
   ]
  },
  {
   "cell_type": "code",
   "execution_count": null,
   "metadata": {},
   "outputs": [
    {
     "name": "stdout",
     "output_type": "stream",
     "text": [
      "숫자를 입력하세요 :5\n",
      "틀렸습니다\n",
      "숫자를 입력하세요 :4\n",
      "틀렸습니다\n",
      "숫자를 입력하세요 :20\n",
      "틀렸습니다\n"
     ]
    }
   ],
   "source": [
    "import random\n",
    "random_num = random.randrange(1,100)\n",
    "while True:\n",
    "    guess = int(input(\"숫자를 입력하세요 :\"))\n",
    "    if guess == random_num:\n",
    "        print(\"정답입니다\")\n",
    "        break                 #정답이면, 루프문을 빠져 나갑니다.\n",
    "    else:\n",
    "        print(\"틀렸습니다\")"
   ]
  },
  {
   "cell_type": "code",
   "execution_count": null,
   "metadata": {},
   "outputs": [],
   "source": []
  }
 ],
 "metadata": {
  "kernelspec": {
   "display_name": "Python 3",
   "language": "python",
   "name": "python3"
  },
  "language_info": {
   "codemirror_mode": {
    "name": "ipython",
    "version": 3
   },
   "file_extension": ".py",
   "mimetype": "text/x-python",
   "name": "python",
   "nbconvert_exporter": "python",
   "pygments_lexer": "ipython3",
   "version": "3.7.6"
  }
 },
 "nbformat": 4,
 "nbformat_minor": 4
}
