{
 "cells": [
  {
   "cell_type": "code",
   "execution_count": 5,
   "metadata": {},
   "outputs": [
    {
     "name": "stdout",
     "output_type": "stream",
     "text": [
      "True\n",
      "140705493590704\n",
      "140705493590704\n",
      "True\n",
      "False\n",
      "True\n",
      "100\n"
     ]
    },
    {
     "ename": "AttributeError",
     "evalue": "'int' object has no attribute '__dict__'",
     "output_type": "error",
     "traceback": [
      "\u001b[1;31m---------------------------------------------------------------------------\u001b[0m",
      "\u001b[1;31mAttributeError\u001b[0m                            Traceback (most recent call last)",
      "\u001b[1;32m<ipython-input-5-deef5041e1e3>\u001b[0m in \u001b[0;36m<module>\u001b[1;34m\u001b[0m\n\u001b[0;32m     15\u001b[0m \u001b[0mb\u001b[0m \u001b[1;33m=\u001b[0m \u001b[0mint\u001b[0m\u001b[1;33m(\u001b[0m\u001b[1;36m100\u001b[0m\u001b[1;33m)\u001b[0m\u001b[1;33m\u001b[0m\u001b[1;33m\u001b[0m\u001b[0m\n\u001b[0;32m     16\u001b[0m \u001b[0mprint\u001b[0m\u001b[1;33m(\u001b[0m\u001b[0mb\u001b[0m\u001b[1;33m)\u001b[0m\u001b[1;33m\u001b[0m\u001b[1;33m\u001b[0m\u001b[0m\n\u001b[1;32m---> 17\u001b[1;33m \u001b[0mprint\u001b[0m\u001b[1;33m(\u001b[0m\u001b[0mb\u001b[0m\u001b[1;33m.\u001b[0m\u001b[0m__dict__\u001b[0m\u001b[1;33m)\u001b[0m\u001b[1;33m\u001b[0m\u001b[1;33m\u001b[0m\u001b[0m\n\u001b[0m",
      "\u001b[1;31mAttributeError\u001b[0m: 'int' object has no attribute '__dict__'"
     ]
    }
   ],
   "source": [
    "vari = 10\n",
    "varb = 10\n",
    "print(vari is varb)\n",
    "\n",
    "print(id(vari))\n",
    "print(id(varb))\n",
    "\n",
    "print((id(vari) == id(varb)))\n",
    "\n",
    "vari = 1000\n",
    "varb = 1000\n",
    "print(vari is varb)\n",
    "print(vari == varb)\n",
    "\n",
    "b = int(100)\n",
    "print(b)\n",
    "print(b.__dict__)"
   ]
  },
  {
   "cell_type": "code",
   "execution_count": 6,
   "metadata": {},
   "outputs": [
    {
     "name": "stdout",
     "output_type": "stream",
     "text": [
      "<class 'type'>\n",
      "Help on class type in module builtins:\n",
      "\n",
      "class type(object)\n",
      " |  type(object_or_name, bases, dict)\n",
      " |  type(object) -> the object's type\n",
      " |  type(name, bases, dict) -> a new type\n",
      " |  \n",
      " |  Methods defined here:\n",
      " |  \n",
      " |  __call__(self, /, *args, **kwargs)\n",
      " |      Call self as a function.\n",
      " |  \n",
      " |  __delattr__(self, name, /)\n",
      " |      Implement delattr(self, name).\n",
      " |  \n",
      " |  __dir__(self, /)\n",
      " |      Specialized __dir__ implementation for types.\n",
      " |  \n",
      " |  __getattribute__(self, name, /)\n",
      " |      Return getattr(self, name).\n",
      " |  \n",
      " |  __init__(self, /, *args, **kwargs)\n",
      " |      Initialize self.  See help(type(self)) for accurate signature.\n",
      " |  \n",
      " |  __instancecheck__(self, instance, /)\n",
      " |      Check if an object is an instance.\n",
      " |  \n",
      " |  __repr__(self, /)\n",
      " |      Return repr(self).\n",
      " |  \n",
      " |  __setattr__(self, name, value, /)\n",
      " |      Implement setattr(self, name, value).\n",
      " |  \n",
      " |  __sizeof__(self, /)\n",
      " |      Return memory consumption of the type object.\n",
      " |  \n",
      " |  __subclasscheck__(self, subclass, /)\n",
      " |      Check if a class is a subclass.\n",
      " |  \n",
      " |  __subclasses__(self, /)\n",
      " |      Return a list of immediate subclasses.\n",
      " |  \n",
      " |  mro(self, /)\n",
      " |      Return a type's method resolution order.\n",
      " |  \n",
      " |  ----------------------------------------------------------------------\n",
      " |  Class methods defined here:\n",
      " |  \n",
      " |  __prepare__(...)\n",
      " |      __prepare__() -> dict\n",
      " |      used to create the namespace for the class statement\n",
      " |  \n",
      " |  ----------------------------------------------------------------------\n",
      " |  Static methods defined here:\n",
      " |  \n",
      " |  __new__(*args, **kwargs)\n",
      " |      Create and return a new object.  See help(type) for accurate signature.\n",
      " |  \n",
      " |  ----------------------------------------------------------------------\n",
      " |  Data descriptors defined here:\n",
      " |  \n",
      " |  __abstractmethods__\n",
      " |  \n",
      " |  __dict__\n",
      " |  \n",
      " |  __text_signature__\n",
      " |  \n",
      " |  ----------------------------------------------------------------------\n",
      " |  Data and other attributes defined here:\n",
      " |  \n",
      " |  __base__ = <class 'object'>\n",
      " |      The most base type\n",
      " |  \n",
      " |  __bases__ = (<class 'object'>,)\n",
      " |  \n",
      " |  __basicsize__ = 864\n",
      " |  \n",
      " |  __dictoffset__ = 264\n",
      " |  \n",
      " |  __flags__ = 2148291584\n",
      " |  \n",
      " |  __itemsize__ = 40\n",
      " |  \n",
      " |  __mro__ = (<class 'type'>, <class 'object'>)\n",
      " |  \n",
      " |  __weakrefoffset__ = 368\n",
      "\n"
     ]
    }
   ],
   "source": [
    "print(type)\n",
    "help(type)"
   ]
  },
  {
   "cell_type": "code",
   "execution_count": 7,
   "metadata": {},
   "outputs": [
    {
     "name": "stdout",
     "output_type": "stream",
     "text": [
      "None\n",
      "<class 'NoneType'>\n"
     ]
    }
   ],
   "source": [
    "print(None)\n",
    "print(type(None))"
   ]
  },
  {
   "cell_type": "code",
   "execution_count": 10,
   "metadata": {},
   "outputs": [
    {
     "name": "stdout",
     "output_type": "stream",
     "text": [
      "<function full at 0x000001FB3E636828>\n"
     ]
    }
   ],
   "source": [
    "def full():\n",
    "    pass\n",
    "a= full\n",
    "print(a)"
   ]
  },
  {
   "cell_type": "code",
   "execution_count": 12,
   "metadata": {},
   "outputs": [
    {
     "name": "stdout",
     "output_type": "stream",
     "text": [
      "<class 'float'>\n",
      "<class 'int'>\n"
     ]
    }
   ],
   "source": [
    "a = 30 / 5\n",
    "\n",
    "print(type(a))\n",
    "\n",
    "b = 30 // 5\n",
    "\n",
    "print(type(b))"
   ]
  },
  {
   "cell_type": "code",
   "execution_count": 18,
   "metadata": {},
   "outputs": [
    {
     "name": "stdout",
     "output_type": "stream",
     "text": [
      "0\n",
      "15\n",
      "15\n",
      "-10\n",
      "72\n",
      "37\n"
     ]
    }
   ],
   "source": [
    "a = 9\n",
    "b = 6\n",
    "print( a & b)\n",
    "print(a | b)\n",
    "print(a ^ b)\n",
    "print(~a)\n",
    "print( a <<3)\n",
    "c = 299\n",
    "print(c >> 3)\n"
   ]
  },
  {
   "cell_type": "code",
   "execution_count": 19,
   "metadata": {},
   "outputs": [
    {
     "name": "stdout",
     "output_type": "stream",
     "text": [
      "True\n",
      "False\n"
     ]
    }
   ],
   "source": [
    "s= \"100\"\n",
    "print(s.isdigit())\n",
    "c = '129d'\n",
    "print(c.isdigit())"
   ]
  },
  {
   "cell_type": "code",
   "execution_count": 24,
   "metadata": {},
   "outputs": [
    {
     "name": "stdout",
     "output_type": "stream",
     "text": [
      "TEAM\n"
     ]
    }
   ],
   "source": [
    "a = 'TEAM'\n",
    "b = 'LAB'\n",
    "\n",
    "if'A'in a:\n",
    "    print(a)\n",
    "else:\n",
    "    print(b)"
   ]
  },
  {
   "cell_type": "code",
   "execution_count": 27,
   "metadata": {},
   "outputs": [
    {
     "name": "stdout",
     "output_type": "stream",
     "text": [
      "8\n"
     ]
    }
   ],
   "source": [
    "int_value = 2\n",
    "c = 4\n",
    "print(2+ int_value+c)"
   ]
  },
  {
   "cell_type": "code",
   "execution_count": 5,
   "metadata": {},
   "outputs": [
    {
     "name": "stdout",
     "output_type": "stream",
     "text": [
      "False\n",
      "hello, python\n",
      "['Hello', ' Python']\n",
      "['Hello,', 'Python']\n",
      "<class 'list'>\n"
     ]
    }
   ],
   "source": [
    "str1 = \"Hello, Python\"\n",
    "print(str1.islower())\n",
    "print(str1.lower())\n",
    "strList = str1.split(',')\n",
    "strList2 = str1.split()\n",
    "print(strList)\n",
    "print(strList2)\n",
    "print(type(strList))"
   ]
  },
  {
   "cell_type": "code",
   "execution_count": 35,
   "metadata": {},
   "outputs": [
    {
     "name": "stdout",
     "output_type": "stream",
     "text": [
      "대._.한._.민._.국\n"
     ]
    }
   ],
   "source": [
    "s = \"._.\"\n",
    "print(s.join(\"대한민국\"))"
   ]
  },
  {
   "cell_type": "code",
   "execution_count": 51,
   "metadata": {},
   "outputs": [
    {
     "name": "stdout",
     "output_type": "stream",
     "text": [
      "서울찍고, 대전찍고, 대구찍고, 부산찍고, "
     ]
    }
   ],
   "source": [
    "\n",
    "s2 = \"서울->대전->대구->부산\"\n",
    "city = s2.split('->')\n",
    "for c in city:\n",
    "    print(c+'찍고', end = ', ')"
   ]
  },
  {
   "cell_type": "code",
   "execution_count": 45,
   "metadata": {},
   "outputs": [
    {
     "name": "stdout",
     "output_type": "stream",
     "text": [
      "서울 찍고, 대전 찍고, 대구 찍고, 부산 찍고, "
     ]
    }
   ],
   "source": [
    "s2 = \"서울 대전 대구 부산\"\n",
    "city = s2.split()\n",
    "for c in city:\n",
    "    print(c, '찍고', end = ', ')"
   ]
  },
  {
   "cell_type": "code",
   "execution_count": 55,
   "metadata": {},
   "outputs": [
    {
     "name": "stdout",
     "output_type": "stream",
     "text": [
      "           강나루 건너서            \n",
      "            밀밭 길을             \n",
      "                              \n",
      "           구름에 달 가듯이          \n",
      "            가는 나그네            \n",
      "            길을 외줄기            \n",
      "            남도 삼백리            \n",
      "                              \n",
      "          술 익는 마을마다           \n",
      "            타는 저녁놀            \n",
      "          구름에 달 가듯이           \n",
      "            가는 나그네            \n"
     ]
    }
   ],
   "source": [
    "traveler = \"\"\"강나루 건너서\\n밀밭 길을\\n\\n 구름에 달 가듯이\\n가는 나그네\\n길을 외줄기\\n남도 삼백리\\n\\n술 익는 마을마다\\n타는 저녁놀\\n구름에 달 가듯이\\n가는 나그네\"\"\"\n",
    "poet = traveler.splitlines()\n",
    "for line in poet:\n",
    "    print(line.center(30))"
   ]
  },
  {
   "cell_type": "code",
   "execution_count": 10,
   "metadata": {},
   "outputs": [
    {
     "name": "stdout",
     "output_type": "stream",
     "text": [
      "                       강나루 건너서\n",
      "                         밀밭 길을\n",
      "                              \n",
      "                     구름에 달 가듯이\n",
      "                        가는 나그네\n",
      "                        길을 외줄기\n",
      "                        남도 삼백리\n",
      "                              \n",
      "                     술 익는 마을마다\n",
      "                        타는 저녁놀\n",
      "                     구름에 달 가듯이\n",
      "                        가는 나그네\n"
     ]
    }
   ],
   "source": [
    "traveler = \"\"\"강나루 건너서\\n밀밭 길을\\n\\n 구름에 달 가듯이\\n가는 나그네\\n길을 외줄기\\n남도 삼백리\\n\\n술 익는 마을마다\\n타는 저녁놀\\n구름에 달 가듯이\\n가는 나그네\"\"\"\n",
    "poet = traveler.splitlines()\n",
    "for line in poet:\n",
    "    print(line.rjust(30))"
   ]
  },
  {
   "cell_type": "code",
   "execution_count": 56,
   "metadata": {},
   "outputs": [
    {
     "name": "stdout",
     "output_type": "stream",
     "text": [
      "나이: 30\n",
      "나이: 30\n",
      "1.123000,1.12\n",
      "1.123000, 1.12\n",
      "12, a, A\n",
      "1010, 12\n",
      "a, A\n",
      "|  123|\n",
      "|  abc|\n",
      "|  123|\n",
      "|abc  |\n",
      "|123  |\n",
      "|  abc|\n",
      "|123  |\n",
      "|  abc|\n",
      "| abc |\n"
     ]
    }
   ],
   "source": [
    "print('%s: %d' % ('나이', 30))\n",
    "print('{}: {}'.format('나이', 30))\n",
    "\n",
    "print('%f,%.2f' % (1.123, 1.123))\n",
    "print('{:f}, {:.2f}'.format(1.123, 1.123))\n",
    "\n",
    "print('%o, %x, %X' % (10, 10, 10))\n",
    "print('{:b}, {:o}'.format(10, 10))\n",
    "print('{:x}, {:X}'.format(10, 10))\n",
    "\n",
    "print('|%5d|' % 123)      \n",
    "print('|%5s|' % 'abc') \n",
    "print('|{:5}|'.format(123)) \n",
    "print('|{:5}|'.format('abc'))\n",
    "\n",
    "print('|%-5d|' % 123) \n",
    "print('|%5s|' % 'abc') \n",
    "print('|{:<5}|'.format(123)) \n",
    "print('|{:>5}|'.format('abc')) \n",
    "print('|{:^5}|'.format('abc'))"
   ]
  },
  {
   "cell_type": "code",
   "execution_count": 118,
   "metadata": {},
   "outputs": [
    {
     "name": "stdout",
     "output_type": "stream",
     "text": [
      "|00123|\n",
      "|123  |\n",
      "|123  |\n",
      "|00123|\n",
      "|__abc|\n",
      "|abc__|\n",
      "|-abc-|\n",
      "1,000,000\n",
      "1,000,000.00\n",
      "<class 'str'> '가을', '동화'\n",
      "('가을', '동화')\n",
      "<class 'str'> 100, 99.99\n",
      "(100, 99.99)\n"
     ]
    }
   ],
   "source": [
    "print('|%05d|' % 123)           #여백 채우기 \n",
    "print('|%0-5d|' % 123)\n",
    "print('|%-5d|' % 123)\n",
    "print('|{:05}|'.format(123)) \n",
    "print('|{:_>5}|'.format('abc'))\n",
    "print('|{:_<5}|'.format('abc')) \n",
    "print('|{:-^5}|'.format('abc'))\n",
    "print('{:,}'.format(1000000))        #정수, 실수 단위 구분 \n",
    "print('{:,.2f}'.format(1000000))\n",
    "a = \"%r, %r\" % (\"가을\", \"동화\") \n",
    "print( type( a ), a ) \n",
    "print( eval( a ) )\n",
    "a= \"{!s}, {!s}\".format(str(100), str(99.99) ) \n",
    "print( type( a ), a ) \n",
    "print( eval( a ) )"
   ]
  },
  {
   "cell_type": "code",
   "execution_count": 79,
   "metadata": {},
   "outputs": [
    {
     "ename": "AttributeError",
     "evalue": "'list' object has no attribute 'just'",
     "output_type": "error",
     "traceback": [
      "\u001b[1;31m---------------------------------------------------------------------------\u001b[0m",
      "\u001b[1;31mAttributeError\u001b[0m                            Traceback (most recent call last)",
      "\u001b[1;32m<ipython-input-79-0b226b47a80f>\u001b[0m in \u001b[0;36m<module>\u001b[1;34m\u001b[0m\n\u001b[1;32m----> 1\u001b[1;33m \u001b[0mhelp\u001b[0m\u001b[1;33m(\u001b[0m\u001b[0ma\u001b[0m\u001b[1;33m.\u001b[0m\u001b[0mjust\u001b[0m\u001b[1;33m)\u001b[0m\u001b[1;33m\u001b[0m\u001b[1;33m\u001b[0m\u001b[0m\n\u001b[0m",
      "\u001b[1;31mAttributeError\u001b[0m: 'list' object has no attribute 'just'"
     ]
    }
   ],
   "source": [
    "help(a.just)"
   ]
  },
  {
   "cell_type": "code",
   "execution_count": 18,
   "metadata": {},
   "outputs": [
    {
     "name": "stdout",
     "output_type": "stream",
     "text": [
      "Number of a word 'Yesterday' 7\n"
     ]
    }
   ],
   "source": [
    "f = open(\"C:/Users/hangaramit24/Desktop/jslee/200514/yesterday.txt\",'r')\n",
    "yd_l = f.readlines()\n",
    "c = \"\"\n",
    "for line in yd_l:\n",
    "    c=c+line\n",
    "a = c.lower().count('yesterday')\n",
    "print(\"Number of a word 'Yesterday'\", a)"
   ]
  },
  {
   "cell_type": "code",
   "execution_count": 109,
   "metadata": {},
   "outputs": [
    {
     "name": "stdout",
     "output_type": "stream",
     "text": [
      "['red', 'blue', 'green', 'white']\n"
     ]
    }
   ],
   "source": [
    "color1 = [\"red\", 'blue', 'green']\n",
    "color1.append('white')\n",
    "print(color1)"
   ]
  },
  {
   "cell_type": "code",
   "execution_count": 132,
   "metadata": {},
   "outputs": [
    {
     "name": "stdout",
     "output_type": "stream",
     "text": [
      "Now I long for yesterdayYesterday all my troubles seemed so far away\n",
      "Now it looks like they're here to stay\n",
      "Oh, I believe in yesterday\n",
      "Suddenly, I'm not half the man I used to be\n",
      "There's a shadow hanging over me\n",
      "Oh, yesterday came suddenly\n",
      "Why she had to go\n",
      "I don't know\n",
      "She wouldn't say\n",
      "I said something wrong\n",
      "Now I long for yesterday\n",
      "Yesterday love was such an easy game to play\n",
      "Now I need a place to hide away\n",
      "Oh, I believe in yesterday\n",
      "Why she had to go\n",
      "I don't know\n",
      "She wouldn't say\n",
      "I said something wrong\n",
      "Now I long for yesterday\n",
      "Number of a word 'Yesterday' 8\n"
     ]
    }
   ],
   "source": [
    "f = open(\"C:/Users/hangaramit24/Desktop/jslee/200514/yesterday.txt\",'r')\n",
    "yd = f.readlines()\n",
    "for line in yd:\n",
    "    c=c+line\n",
    "print(c)\n",
    "f.close()\n",
    "a = c.lower().count('yesterday')\n",
    "print(\"Number of a word 'Yesterday'\", a)"
   ]
  },
  {
   "cell_type": "code",
   "execution_count": 19,
   "metadata": {},
   "outputs": [
    {
     "name": "stdout",
     "output_type": "stream",
     "text": [
      "'프로그램을 종료하려면 'q'를 입력하세요'q\n",
      "program end!! bye~~\n"
     ]
    }
   ],
   "source": [
    "a = (input(\"'프로그램을 종료하려면 'q'를 입력하세요'\"))\n",
    "if a == 'q':\n",
    "    print('program end!! bye~~')\n",
    "    exit()"
   ]
  },
  {
   "cell_type": "code",
   "execution_count": 1,
   "metadata": {},
   "outputs": [
    {
     "name": "stdout",
     "output_type": "stream",
     "text": [
      "'프로그램을 종료하려면 'q'를 입력하세요'q\n",
      "program end!! bye~~\n"
     ]
    },
    {
     "ename": "SystemExit",
     "evalue": "",
     "output_type": "error",
     "traceback": [
      "An exception has occurred, use %tb to see the full traceback.\n",
      "\u001b[1;31mSystemExit\u001b[0m\n"
     ]
    },
    {
     "name": "stderr",
     "output_type": "stream",
     "text": [
      "C:\\ProgramData\\Anaconda3\\lib\\site-packages\\IPython\\core\\interactiveshell.py:3339: UserWarning: To exit: use 'exit', 'quit', or Ctrl-D.\n",
      "  warn(\"To exit: use 'exit', 'quit', or Ctrl-D.\", stacklevel=1)\n"
     ]
    }
   ],
   "source": [
    "import sys\n",
    "a= (input(\"'프로그램을 종료하려면 'q'를 입력하세요'\"))\n",
    "if a == 'q':\n",
    "    print('program end!! bye~~')\n",
    "    sys.exit()"
   ]
  },
  {
   "cell_type": "code",
   "execution_count": 4,
   "metadata": {},
   "outputs": [
    {
     "name": "stdout",
     "output_type": "stream",
     "text": [
      "16진수를 입력해주세요.ffff\n",
      "65535\n"
     ]
    }
   ],
   "source": [
    "a = input('16진수를 입력해주세요.')\n",
    "b = int(a,16)\n",
    "print(b)"
   ]
  },
  {
   "cell_type": "code",
   "execution_count": 3,
   "metadata": {},
   "outputs": [
    {
     "data": {
      "text/plain": [
       "65535"
      ]
     },
     "execution_count": 3,
     "metadata": {},
     "output_type": "execute_result"
    }
   ],
   "source": [
    "int('ffff',16)"
   ]
  },
  {
   "cell_type": "code",
   "execution_count": 17,
   "metadata": {},
   "outputs": [
    {
     "name": "stdout",
     "output_type": "stream",
     "text": [
      "16진수를 입력해주세요.gg\n"
     ]
    },
    {
     "ename": "ValueError",
     "evalue": "invalid literal for int() with base 16: 'gg'",
     "output_type": "error",
     "traceback": [
      "\u001b[1;31m---------------------------------------------------------------------------\u001b[0m",
      "\u001b[1;31mValueError\u001b[0m                                Traceback (most recent call last)",
      "\u001b[1;32m<ipython-input-17-6602815d3dac>\u001b[0m in \u001b[0;36m<module>\u001b[1;34m\u001b[0m\n\u001b[0;32m      1\u001b[0m \u001b[0ma\u001b[0m \u001b[1;33m=\u001b[0m \u001b[0minput\u001b[0m\u001b[1;33m(\u001b[0m\u001b[1;34m'16진수를 입력해주세요.'\u001b[0m\u001b[1;33m)\u001b[0m\u001b[1;33m\u001b[0m\u001b[1;33m\u001b[0m\u001b[0m\n\u001b[1;32m----> 2\u001b[1;33m \u001b[0mb\u001b[0m \u001b[1;33m=\u001b[0m \u001b[0mint\u001b[0m\u001b[1;33m(\u001b[0m\u001b[0ma\u001b[0m\u001b[1;33m,\u001b[0m\u001b[1;36m16\u001b[0m\u001b[1;33m)\u001b[0m\u001b[1;33m\u001b[0m\u001b[1;33m\u001b[0m\u001b[0m\n\u001b[0m\u001b[0;32m      3\u001b[0m \u001b[0mprint\u001b[0m\u001b[1;33m(\u001b[0m\u001b[0mb\u001b[0m\u001b[1;33m)\u001b[0m\u001b[1;33m\u001b[0m\u001b[1;33m\u001b[0m\u001b[0m\n",
      "\u001b[1;31mValueError\u001b[0m: invalid literal for int() with base 16: 'gg'"
     ]
    }
   ],
   "source": [
    "a = input('16진수를 입력해주세요.')\n",
    "b = int(a,16)\n",
    "print(b)"
   ]
  },
  {
   "cell_type": "code",
   "execution_count": 2,
   "metadata": {},
   "outputs": [
    {
     "name": "stdout",
     "output_type": "stream",
     "text": [
      "16진수를 입력해주세요 : 1543\n",
      "16진수가 아닙니다.\n"
     ]
    }
   ],
   "source": [
    "a = input('16진수를 입력해주세요 : ')\n",
    "if a !='0' or '1'or '2' or '3' or '4' or '5' or '6' or '7' or '8' or '9' or 'a' or 'b' or 'c' or 'd' or 'e' or 'f':\n",
    "    print(\"16진수가 아닙니다.\")\n",
    "else:\n",
    "    print(int(a,16))"
   ]
  },
  {
   "cell_type": "code",
   "execution_count": 24,
   "metadata": {},
   "outputs": [
    {
     "name": "stdout",
     "output_type": "stream",
     "text": [
      "숫자를 입력하세요ffffff\n",
      "16진수입니다. 10진수로 16777215 입니다.\n"
     ]
    }
   ],
   "source": [
    "import re\n",
    "\n",
    "def is_hex(c):\n",
    "    p = re.compile('[0-9a-fA-F]')\n",
    "    return p.match(c) != None\n",
    "\n",
    "def hex2dec(c):\n",
    "    return int(c, 16)\n",
    "\n",
    "string = input('숫자를 입력하세요')\n",
    "if is_hex(string):\n",
    "    print('16진수입니다. 10진수로 {0} 입니다.'.format(hex2dec(string)))\n",
    "else:\n",
    "    print('16진수가 아닙니다.')"
   ]
  },
  {
   "cell_type": "code",
   "execution_count": 6,
   "metadata": {},
   "outputs": [
    {
     "name": "stdout",
     "output_type": "stream",
     "text": [
      "정수를 입력해주세요 : 53\n",
      "홀수입니다.\n"
     ]
    }
   ],
   "source": [
    "a = input('정수를 입력해주세요 : ')\n",
    "if int(a)%2 == 1:\n",
    "    print(\"홀수입니다.\")\n",
    "else:\n",
    "    print(\"짝수입니다.\")"
   ]
  },
  {
   "cell_type": "code",
   "execution_count": 20,
   "metadata": {},
   "outputs": [
    {
     "name": "stdout",
     "output_type": "stream",
     "text": [
      "연도를 입력해주세요 : 2020\n",
      "2020년은 윤년입니다.\n"
     ]
    }
   ],
   "source": [
    "a = input('연도를 입력해주세요 : ')\n",
    "if int(a)%4 == 0 and int(a)%100 != 0:\n",
    "    print(a+'년은 윤년입니다.')\n",
    "else:\n",
    "    print(a+'년은 평년입니다.')"
   ]
  },
  {
   "cell_type": "code",
   "execution_count": 12,
   "metadata": {},
   "outputs": [
    {
     "name": "stdout",
     "output_type": "stream",
     "text": [
      "[0-9a-fA-F]\n"
     ]
    }
   ],
   "source": [
    "a = '[0-9a-fA-F]'\n",
    "print(a)"
   ]
  },
  {
   "cell_type": "code",
   "execution_count": 15,
   "metadata": {
    "scrolled": true
   },
   "outputs": [
    {
     "name": "stdout",
     "output_type": "stream",
     "text": [
      "교환할 돈을 입력해주세요 : 7777\n",
      "500원짜리 : 15\n",
      "100원짜리 : 2\n",
      "50원짜리 : 1\n",
      "10원짜리 : 2\n",
      "변경하지 못한 잔돈 : 7\n"
     ]
    }
   ],
   "source": [
    "a = input('교환할 돈을 입력해주세요 : ')\n",
    "\n",
    "print('500원짜리 :',int(a)//500)\n",
    "print('100원짜리 :',int(a)%500//100)\n",
    "print('50원짜리 :',int(a)%500%100//50)\n",
    "print('10원짜리 :',int(a)%500%100%50//10)\n",
    "print('변경하지 못한 잔돈 :',int(a)%500%100%50%10)"
   ]
  },
  {
   "cell_type": "code",
   "execution_count": 22,
   "metadata": {},
   "outputs": [
    {
     "data": {
      "text/plain": [
       "True"
      ]
     },
     "execution_count": 22,
     "metadata": {},
     "output_type": "execute_result"
    }
   ],
   "source": [
    "(3>5)<10"
   ]
  },
  {
   "cell_type": "code",
   "execution_count": 30,
   "metadata": {},
   "outputs": [
    {
     "name": "stdout",
     "output_type": "stream",
     "text": [
      "Enter your score: 60\n",
      "D\n"
     ]
    }
   ],
   "source": [
    "a = input(\"Enter your score: \")\n",
    "if int(a)>=90:\n",
    "    print('A')\n",
    "elif int(a)>=80:\n",
    "        print('B')\n",
    "elif int(a)>=70:\n",
    "        print('C')\n",
    "elif int(a)>=60:\n",
    "        print('D')\n",
    "else:\n",
    "    print('F')"
   ]
  },
  {
   "cell_type": "code",
   "execution_count": 6,
   "metadata": {
    "scrolled": true
   },
   "outputs": [
    {
     "name": "stdout",
     "output_type": "stream",
     "text": [
      "첫번째 정수 입력 : 5\n",
      "두번째 정수 입력 : 6\n",
      "연산자  ( +, -, *, //)  입력 : //\n",
      "5 // 6 = 0\n"
     ]
    }
   ],
   "source": [
    "a = input(\"첫번째 정수 입력 : \")\n",
    "b = input(\"두번째 정수 입력 : \") \n",
    "c = input(\"연산자  ( +, -, *, //)  입력 : \") \n",
    "if c == '+':\n",
    "    print(a,c,b,'=', int(a)+int(b))\n",
    "elif c == '-':\n",
    "    print(a,c,b,'=', int(a)-int(b))\n",
    "elif c == '*':\n",
    "    print(a,c,b,'=', int(a)*int(b))\n",
    "elif c == '//':\n",
    "    print(a,c,b,'=', int(a)//int(b))\n",
    "else:\n",
    "    print('다시 입력해주세요')"
   ]
  },
  {
   "cell_type": "code",
   "execution_count": 9,
   "metadata": {},
   "outputs": [
    {
     "name": "stdout",
     "output_type": "stream",
     "text": [
      "당신이 태어난 연도를 입력하세요. : 2005\n",
      "중학생\n"
     ]
    }
   ],
   "source": [
    "a = input(\"당신이 태어난 연도를 입력하세요. : \")\n",
    "b = 2020-int(a)+1\n",
    "if 20<=b<=26:\n",
    "    print('대학생')\n",
    "elif 17<b<20:\n",
    "    print('고등학생')\n",
    "elif 14<b<17:\n",
    "    print('중학생')\n",
    "elif 8<b<14:\n",
    "    print('초등학생')\n",
    "else:\n",
    "    print('학생이 아닙니다.')"
   ]
  },
  {
   "cell_type": "code",
   "execution_count": 5,
   "metadata": {},
   "outputs": [
    {
     "name": "stdout",
     "output_type": "stream",
     "text": [
      "21 42 63 84 \n",
      "3과 7의 공배수개수:  4\n"
     ]
    }
   ],
   "source": [
    "cnt = 0\n",
    "for i in range(1,101):\n",
    "    if int(i)%3 == 0 and int(i)%7 == 0:\n",
    "        cnt = cnt+1\n",
    "        print(i,end=\" \")\n",
    "print()\n",
    "print(\"3과 7의 공배수개수: \", cnt)"
   ]
  },
  {
   "cell_type": "code",
   "execution_count": 17,
   "metadata": {
    "scrolled": true
   },
   "outputs": [
    {
     "name": "stdout",
     "output_type": "stream",
     "text": [
      "20090\n"
     ]
    }
   ],
   "source": [
    "a = 0\n",
    "for i in range(5,201):\n",
    "    a = a + i\n",
    "print(a)"
   ]
  },
  {
   "cell_type": "code",
   "execution_count": 11,
   "metadata": {},
   "outputs": [
    {
     "name": "stdout",
     "output_type": "stream",
     "text": [
      "전체 합 계산기입니다.\n",
      "첫번째 수를 입력해주세여5\n",
      "두번째 수를 입력해주세여200\n",
      "20090\n"
     ]
    }
   ],
   "source": [
    "print(\"전체 합 계산기입니다.\")\n",
    "su1 = int(input(\"첫번째 수를 입력해주세요 : \"))\n",
    "su2 = int(input(\"두번째 수를 입력해주세요 : \"))\n",
    "a = 0\n",
    "for i in range(su1,su2+1):\n",
    "    a = a + i\n",
    "print(a)"
   ]
  },
  {
   "cell_type": "code",
   "execution_count": 16,
   "metadata": {},
   "outputs": [
    {
     "name": "stdout",
     "output_type": "stream",
     "text": [
      "전체 합 계산기입니다.\n",
      "첫번째 수를 입력해주세요 : 5\n",
      "두번째 수를 입력해주세요 : 200\n",
      "20090\n"
     ]
    }
   ],
   "source": [
    "print(\"전체 합 계산기입니다.\")\n",
    "su1 = int(input(\"첫번째 수를 입력해주세요 : \"))\n",
    "su2 = int(input(\"두번째 수를 입력해주세요 : \"))\n",
    "a = (su1+su2)*((su2+1-su1)//2)\n",
    "print(a)"
   ]
  },
  {
   "cell_type": "code",
   "execution_count": 20,
   "metadata": {},
   "outputs": [
    {
     "name": "stdout",
     "output_type": "stream",
     "text": [
      "==<< 메 뉴 >>==\n",
      "1. 입력한 수식 계산\n",
      "2. 두 수사이의 합계 \n",
      "메뉴 입력하세요.1,23\n",
      "1 또는 2만 입력해야 합니다.\n"
     ]
    }
   ],
   "source": [
    "print(\"==<< 메 뉴 >>==\")\n",
    "print(\"1. 입력한 수식 계산\")\n",
    "print(\"2. 두 수사이의 합계 \")\n",
    "f = 0\n",
    "a = input('메뉴 입력하세요.1,2')\n",
    "if int(a)==1:\n",
    "    b = input('수식을 입력하세요')\n",
    "    print(eval(b))\n",
    "elif int(a)==2:\n",
    "    c = input('*** 첫번째 숫자를 입력하세요 : ')\n",
    "    d = input('*** 두번째 숫자를 입력하세요 : ')\n",
    "    for g in range(int(c),int(d)+1):\n",
    "        f = f + g\n",
    "    print(f)\n",
    "else:\n",
    "    print('1 또는 2만 입력해야 합니다.')"
   ]
  },
  {
   "cell_type": "code",
   "execution_count": 1,
   "metadata": {},
   "outputs": [
    {
     "name": "stdout",
     "output_type": "stream",
     "text": [
      "==<< 메 뉴 >>==\n",
      "1. 입력한 수식 계산\n",
      "2. 두 수사이의 합계 \n",
      "메뉴 입력하세요.1,2 : 3\n",
      "1 또는 2만 입력해야 합니다.\n",
      "메뉴 입력하세요.1,2 : 2\n",
      "*** 첫번째 숫자를 입력하세요 : 5\n",
      "*** 두번째 숫자를 입력하세요 : 6\n",
      "11\n"
     ]
    }
   ],
   "source": [
    "print(\"==<< 메 뉴 >>==\")\n",
    "print(\"1. 입력한 수식 계산\")\n",
    "print(\"2. 두 수사이의 합계 \")\n",
    "m = 0\n",
    "_sum_ = 0\n",
    "while m !=2 and m !=1:\n",
    "    m = int(input('메뉴 입력하세요.1,2 : '))\n",
    "    if int(m)==1:\n",
    "        b = input('수식을 입력하세요')\n",
    "        print(eval(b))\n",
    "    elif int(m)==2:\n",
    "        c = input('*** 첫번째 숫자를 입력하세요 : ')\n",
    "        d = input('*** 두번째 숫자를 입력하세요 : ')\n",
    "        for g in range(int(c),int(d)+1):\n",
    "            _sum_ = _sum_ + g\n",
    "        print(_sum_)\n",
    "    else:\n",
    "        print('1 또는 2만 입력해야 합니다.')"
   ]
  },
  {
   "cell_type": "code",
   "execution_count": null,
   "metadata": {},
   "outputs": [],
   "source": []
  }
 ],
 "metadata": {
  "kernelspec": {
   "display_name": "Python 3",
   "language": "python",
   "name": "python3"
  },
  "language_info": {
   "codemirror_mode": {
    "name": "ipython",
    "version": 3
   },
   "file_extension": ".py",
   "mimetype": "text/x-python",
   "name": "python",
   "nbconvert_exporter": "python",
   "pygments_lexer": "ipython3",
   "version": "3.7.6"
  }
 },
 "nbformat": 4,
 "nbformat_minor": 4
}
