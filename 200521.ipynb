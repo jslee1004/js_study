{
 "cells": [
  {
   "cell_type": "code",
   "execution_count": 3,
   "metadata": {},
   "outputs": [
    {
     "name": "stdout",
     "output_type": "stream",
     "text": [
      "15\n",
      "50\n",
      "25.0\n"
     ]
    }
   ],
   "source": [
    "def addition(x,y):\n",
    "\treturn x + y\n",
    "\n",
    "def multiplication(x,y):\n",
    "\treturn x * y\n",
    "\n",
    "def divided_by_2(x):\n",
    "\treturn x /2\n",
    "\n",
    "if __name__ == '__main__':\n",
    "    print(addition(10,5))\n",
    "    print(multiplication(10,5))\n",
    "    print(divided_by_2(50))"
   ]
  },
  {
   "cell_type": "code",
   "execution_count": 9,
   "metadata": {},
   "outputs": [
    {
     "name": "stdout",
     "output_type": "stream",
     "text": [
      "{'orange', 'apple', 'cherry'}\n",
      "{1, 2, 3, 4, 5}\n",
      "{3}\n",
      "{1, 2, 3, 4, 5}\n",
      "{3}\n",
      "{1, 2}\n",
      "{4, 5}\n",
      "<class 'set'> {0, 1, 2, 3}\n"
     ]
    }
   ],
   "source": [
    "print( set ({'apple':'red', 'orange':'orange', 'cherry':'red'}) )\n",
    "a = { 1, 2, 3 } \n",
    "b = { 3, 4, 5 } \n",
    "print ( a.union( b ) ) \n",
    "print ( a.intersection( b ) )\n",
    "print ( a|b ) \n",
    "print ( a&b )\n",
    "print(a-b)\n",
    "print(b-a)\n",
    "d = [1, 0, 3, 1, 2, 3 ] \n",
    "f = set( d ) \n",
    "print( type(f),  f )"
   ]
  },
  {
   "cell_type": "code",
   "execution_count": 13,
   "metadata": {},
   "outputs": [
    {
     "name": "stdout",
     "output_type": "stream",
     "text": [
      "{2}\n",
      "{2}\n",
      "------------------------\n",
      "{1, 2, 3}\n",
      "{1, 2, 3}\n",
      "------------------------\n",
      "{1}\n",
      "{1}\n",
      "------------------------\n",
      "{1, 3}\n",
      "{1, 3}\n",
      "------------------------\n",
      "False\n",
      "False\n",
      "------------------------\n",
      "True\n",
      "False\n",
      "False\n",
      "False\n",
      "False\n",
      "------------------------\n",
      "False\n",
      "False\n"
     ]
    }
   ],
   "source": [
    "a = {1, 2} \n",
    "b = {2, 3} \n",
    "print(a & b)\n",
    "print(a.intersection(b)) #교집합 \n",
    "print(\"------------------------\")\n",
    "print(a | b)\n",
    "print(a.union(b)) #합집합 \n",
    "print(\"------------------------\")\n",
    "print(a - b)\n",
    "print(a.difference(b)) #차집합 \n",
    "print(\"------------------------\")\n",
    "print(a ^ b)\n",
    "print(a.symmetric_difference(b)) #대칭 차집합 \n",
    "print(\"------------------------\")\n",
    "print(a <= b)\n",
    "print(a.issubset(b)) #첫번째 셋이 두번째 셋의 부분집합? \n",
    "print(\"------------------------\")\n",
    "print(a <= a)\n",
    "print(a < b)   #첫번째 셋이 두번째 셋의 proper subset(진부분집합)? \n",
    "print(a < a ) #두번째 셋에는 첫번째 셋의 모든 멤버를 포함한 그 이상의 멤버가 있어야 함 \n",
    "print(a >= b) \n",
    "print(a.issuperset(b)) #첫번째 셋이 두번째 셋의 슈퍼셋? \n",
    "print(\"------------------------\")\n",
    "print(a > b)  #첫번째 셋이 두번째 셋의 proper superset ? \n",
    "print(a > a ) #첫번째 셋에는 두번째 셋의 모든 멤버를 포함한 그 이상의 멤버가 있어야 함"
   ]
  },
  {
   "cell_type": "code",
   "execution_count": 14,
   "metadata": {},
   "outputs": [
    {
     "name": "stdout",
     "output_type": "stream",
     "text": [
      "{'orange', 'apple', 'cherry'}\n"
     ]
    }
   ],
   "source": [
    "print( set ({'apple':'red', 'orange':'orange', 'cherry':'red'}) )\n"
   ]
  },
  {
   "cell_type": "code",
   "execution_count": 26,
   "metadata": {},
   "outputs": [
    {
     "name": "stdout",
     "output_type": "stream",
     "text": [
      "<class 'dict'>\n",
      "{'apple': 'red', 'orange': 'orange', 'banana': 'yellow', 'cherry': 'red'}\n",
      "dict_keys(['apple', 'orange', 'banana', 'cherry'])\n",
      "dict_values(['red', 'orange', 'yellow', 'red'])\n",
      "dict_items([('apple', 'red'), ('orange', 'orange'), ('banana', 'yellow'), ('cherry', 'red')])\n",
      "<class 'tuple'> ('apple', 'red')\n",
      "<class 'tuple'> ('orange', 'orange')\n",
      "<class 'tuple'> ('banana', 'yellow')\n",
      "<class 'tuple'> ('cherry', 'red')\n",
      "key : apple      value : red\n",
      "key : orange      value : orange\n",
      "key : banana      value : yellow\n",
      "key : cherry      value : red\n"
     ]
    }
   ],
   "source": [
    "fruits = {'apple':'red', 'orange':'orange','banana': 'yellow', 'cherry':'red'}\n",
    "print(type(fruits))\n",
    "print(fruits)\n",
    "print(fruits.keys())\n",
    "print(fruits.values())\n",
    "\n",
    "print(fruits.items())\n",
    "\n",
    "for data in fruits.items():\n",
    "    print(type(data),data)\n",
    "    \n",
    "for k,v in fruits.items():  \n",
    "    print(\"key :\", k,'    ', 'value :', v)"
   ]
  },
  {
   "cell_type": "code",
   "execution_count": 28,
   "metadata": {},
   "outputs": [
    {
     "name": "stdout",
     "output_type": "stream",
     "text": [
      "defaults\n",
      "{'a': 1, 'b': 2, 'c': 'defaults'}\n"
     ]
    }
   ],
   "source": [
    "d = { 'a' : 1, 'b':2 } \n",
    "print( d.get('c', \"defaults\" ) ) \n",
    "d.setdefault('c', \"defaults\")\n",
    "print(d)"
   ]
  },
  {
   "cell_type": "code",
   "execution_count": 30,
   "metadata": {
    "scrolled": false
   },
   "outputs": [
    {
     "name": "stdout",
     "output_type": "stream",
     "text": [
      "OrderedDict([(1, 89), (2, 0), (4, 5)])\n",
      "1 89\n",
      "2 0\n",
      "4 5\n"
     ]
    }
   ],
   "source": [
    "import collections\n",
    "d = {2:3, 1:89, 4:5, 2:0}\n",
    "od = collections.OrderedDict(sorted(d.items()))\n",
    "print(od)\n",
    "for k, v in od.items():\n",
    "    print(k, v)"
   ]
  },
  {
   "cell_type": "code",
   "execution_count": 40,
   "metadata": {
    "scrolled": true
   },
   "outputs": [
    {
     "name": "stdout",
     "output_type": "stream",
     "text": [
      "OrderedDict([(0, 77), (1, 89), (2, 15), (4, 5)])\n",
      "0 77\n",
      "1 89\n",
      "2 15\n",
      "4 5\n"
     ]
    }
   ],
   "source": [
    "import collections\n",
    "d = {2:3, 1:89, 4:5, 2:9, 2:0, 2:7, 2:15, 0:77}\n",
    "od = collections.OrderedDict(sorted(d.items()))\n",
    "print(od)\n",
    "for k, v in od.items():\n",
    "    print(k, v)"
   ]
  },
  {
   "cell_type": "code",
   "execution_count": 41,
   "metadata": {},
   "outputs": [
    {
     "name": "stdout",
     "output_type": "stream",
     "text": [
      "OrderedDict([(0, 78), (1, 89), (2, 15), (4, 5)])\n",
      "0 78\n",
      "1 89\n",
      "2 15\n",
      "4 5\n"
     ]
    }
   ],
   "source": [
    "import collections\n",
    "d = {2:3, 1:89, 4:5, 2:9, 2:0, 2:7, 2:15, 0:77, 0:78} #키 부분으로 분류 하고 나서 키 겹치는 값은 제거 출력값은 오른쪽 끝 기준임\n",
    "od = collections.OrderedDict(sorted(d.items()))\n",
    "print(od)\n",
    "for k, v in od.items():\n",
    "    print(k, v)"
   ]
  },
  {
   "cell_type": "code",
   "execution_count": 32,
   "metadata": {},
   "outputs": [
    {
     "name": "stdout",
     "output_type": "stream",
     "text": [
      "Help on class OrderedDict in module collections:\n",
      "\n",
      "class OrderedDict(builtins.dict)\n",
      " |  Dictionary that remembers insertion order\n",
      " |  \n",
      " |  Method resolution order:\n",
      " |      OrderedDict\n",
      " |      builtins.dict\n",
      " |      builtins.object\n",
      " |  \n",
      " |  Methods defined here:\n",
      " |  \n",
      " |  __delitem__(self, key, /)\n",
      " |      Delete self[key].\n",
      " |  \n",
      " |  __eq__(self, value, /)\n",
      " |      Return self==value.\n",
      " |  \n",
      " |  __ge__(self, value, /)\n",
      " |      Return self>=value.\n",
      " |  \n",
      " |  __gt__(self, value, /)\n",
      " |      Return self>value.\n",
      " |  \n",
      " |  __init__(self, /, *args, **kwargs)\n",
      " |      Initialize self.  See help(type(self)) for accurate signature.\n",
      " |  \n",
      " |  __iter__(self, /)\n",
      " |      Implement iter(self).\n",
      " |  \n",
      " |  __le__(self, value, /)\n",
      " |      Return self<=value.\n",
      " |  \n",
      " |  __lt__(self, value, /)\n",
      " |      Return self<value.\n",
      " |  \n",
      " |  __ne__(self, value, /)\n",
      " |      Return self!=value.\n",
      " |  \n",
      " |  __reduce__(...)\n",
      " |      Return state information for pickling\n",
      " |  \n",
      " |  __repr__(self, /)\n",
      " |      Return repr(self).\n",
      " |  \n",
      " |  __reversed__(...)\n",
      " |      od.__reversed__() <==> reversed(od)\n",
      " |  \n",
      " |  __setitem__(self, key, value, /)\n",
      " |      Set self[key] to value.\n",
      " |  \n",
      " |  __sizeof__(...)\n",
      " |      D.__sizeof__() -> size of D in memory, in bytes\n",
      " |  \n",
      " |  clear(...)\n",
      " |      od.clear() -> None.  Remove all items from od.\n",
      " |  \n",
      " |  copy(...)\n",
      " |      od.copy() -> a shallow copy of od\n",
      " |  \n",
      " |  items(...)\n",
      " |      D.items() -> a set-like object providing a view on D's items\n",
      " |  \n",
      " |  keys(...)\n",
      " |      D.keys() -> a set-like object providing a view on D's keys\n",
      " |  \n",
      " |  move_to_end(self, /, key, last=True)\n",
      " |      Move an existing element to the end (or beginning if last is false).\n",
      " |      \n",
      " |      Raise KeyError if the element does not exist.\n",
      " |  \n",
      " |  pop(...)\n",
      " |      od.pop(k[,d]) -> v, remove specified key and return the corresponding\n",
      " |      value.  If key is not found, d is returned if given, otherwise KeyError\n",
      " |      is raised.\n",
      " |  \n",
      " |  popitem(self, /, last=True)\n",
      " |      Remove and return a (key, value) pair from the dictionary.\n",
      " |      \n",
      " |      Pairs are returned in LIFO order if last is true or FIFO order if false.\n",
      " |  \n",
      " |  setdefault(self, /, key, default=None)\n",
      " |      Insert key with a value of default if key is not in the dictionary.\n",
      " |      \n",
      " |      Return the value for key if key is in the dictionary, else default.\n",
      " |  \n",
      " |  update(...)\n",
      " |      D.update([E, ]**F) -> None.  Update D from dict/iterable E and F.\n",
      " |      If E is present and has a .keys() method, then does:  for k in E: D[k] = E[k]\n",
      " |      If E is present and lacks a .keys() method, then does:  for k, v in E: D[k] = v\n",
      " |      In either case, this is followed by: for k in F:  D[k] = F[k]\n",
      " |  \n",
      " |  values(...)\n",
      " |      D.values() -> an object providing a view on D's values\n",
      " |  \n",
      " |  ----------------------------------------------------------------------\n",
      " |  Class methods defined here:\n",
      " |  \n",
      " |  fromkeys(iterable, value=None) from builtins.type\n",
      " |      Create a new ordered dictionary with keys from iterable and values set to value.\n",
      " |  \n",
      " |  ----------------------------------------------------------------------\n",
      " |  Data descriptors defined here:\n",
      " |  \n",
      " |  __dict__\n",
      " |  \n",
      " |  ----------------------------------------------------------------------\n",
      " |  Data and other attributes defined here:\n",
      " |  \n",
      " |  __hash__ = None\n",
      " |  \n",
      " |  ----------------------------------------------------------------------\n",
      " |  Methods inherited from builtins.dict:\n",
      " |  \n",
      " |  __contains__(self, key, /)\n",
      " |      True if the dictionary has the specified key, else False.\n",
      " |  \n",
      " |  __getattribute__(self, name, /)\n",
      " |      Return getattr(self, name).\n",
      " |  \n",
      " |  __getitem__(...)\n",
      " |      x.__getitem__(y) <==> x[y]\n",
      " |  \n",
      " |  __len__(self, /)\n",
      " |      Return len(self).\n",
      " |  \n",
      " |  get(self, key, default=None, /)\n",
      " |      Return the value for key if key is in the dictionary, else default.\n",
      " |  \n",
      " |  ----------------------------------------------------------------------\n",
      " |  Static methods inherited from builtins.dict:\n",
      " |  \n",
      " |  __new__(*args, **kwargs) from builtins.type\n",
      " |      Create and return a new object.  See help(type) for accurate signature.\n",
      "\n"
     ]
    }
   ],
   "source": [
    "help(collections.OrderedDict)"
   ]
  },
  {
   "cell_type": "code",
   "execution_count": 34,
   "metadata": {},
   "outputs": [
    {
     "name": "stdout",
     "output_type": "stream",
     "text": [
      "{'a': 4, 'b': 2, 'c': 3, 'd': 5}\n",
      "{}\n",
      "{}\n",
      "{'a': None, 'b': None, 'c': None, 'd': None}\n",
      "{'a': 1, 'b': 1, 'c': 1, 'd': 1}\n",
      "2\n",
      "('c', 3)\n"
     ]
    }
   ],
   "source": [
    "dic= {'a':1, 'b':2, 'c':3}\n",
    "dic.update({'a':4,'d':5})\n",
    "print(dic)\n",
    "k = ['a', 'b', 'c', 'd'] \n",
    "dic1, dic2 = {}, {}\n",
    "print(dic1)\n",
    "print(dic2)\n",
    "dic1 = dic1.fromkeys(k) \n",
    "dic2 = dic2.fromkeys(k, 1) \n",
    "print(dic1) \n",
    "print(dic2)\n",
    "dic= {'a':1, 'b':2, 'c':3} \n",
    "print(dic.pop('b') )\n",
    "print(dic.popitem())"
   ]
  },
  {
   "cell_type": "code",
   "execution_count": 36,
   "metadata": {
    "scrolled": true
   },
   "outputs": [
    {
     "ename": "SyntaxError",
     "evalue": "invalid syntax (<ipython-input-36-a428c2ad09cc>, line 1)",
     "output_type": "error",
     "traceback": [
      "\u001b[1;36m  File \u001b[1;32m\"<ipython-input-36-a428c2ad09cc>\"\u001b[1;36m, line \u001b[1;32m1\u001b[0m\n\u001b[1;33m    help(.fromkeys())\u001b[0m\n\u001b[1;37m         ^\u001b[0m\n\u001b[1;31mSyntaxError\u001b[0m\u001b[1;31m:\u001b[0m invalid syntax\n"
     ]
    }
   ],
   "source": [
    "help(.fromkeys())"
   ]
  },
  {
   "cell_type": "code",
   "execution_count": 73,
   "metadata": {},
   "outputs": [
    {
     "name": "stdout",
     "output_type": "stream",
     "text": [
      "<class 'int'>\n",
      "A의 주사위 숫자는 2입니다.\n",
      "B의 주사위 숫자는 6입니다.\n",
      "B가 이겼습니다.\n"
     ]
    }
   ],
   "source": [
    "import random\n",
    "A = random.randint(1,6)\n",
    "B = random.randint(1,6)\n",
    "print(type(A))\n",
    "print('A의 주사위 숫자는 %d입니다.'%A)\n",
    "print('B의 주사위 숫자는 %d입니다.'%B)\n",
    "if B<A:\n",
    "    print('A가 이겼습니다.')\n",
    "elif A<B:\n",
    "    print('B가 이겼습니다.')\n",
    "else:\n",
    "    print('비겼습니다.')"
   ]
  },
  {
   "cell_type": "code",
   "execution_count": 191,
   "metadata": {
    "scrolled": true
   },
   "outputs": [
    {
     "name": "stdout",
     "output_type": "stream",
     "text": [
      "5 5 5 5 5 5\n",
      "반복횟수는 1810621입니다.\n",
      "1~6순차 배치 횟수는 3입니다.\n"
     ]
    }
   ],
   "source": [
    "import random\n",
    "\n",
    "while True:\n",
    "    d1 = random.randint(1,6)\n",
    "    d2 = random.randint(1,6)\n",
    "    d3 = random.randint(1,6)\n",
    "    d4 = random.randint(1,6)\n",
    "    d5 = random.randint(1,6)\n",
    "    d6 = random.randint(1,6)\n",
    "    a+= 1\n",
    "    if d1 == d2 == d3 == d4 == d5 == d6:\n",
    "        print(d1,d2,d3,d4,d5,d6)\n",
    "        print(a)\n",
    "        print(j)\n",
    "        break\n",
    "    if d1 == 1 and d2 == 2 and d3 == 3 and d4 ==4 and d5 ==5 and d6 == 6:\n",
    "        j= j+ 1\n",
    "        print(j)"
   ]
  },
  {
   "cell_type": "code",
   "execution_count": 185,
   "metadata": {},
   "outputs": [
    {
     "name": "stdout",
     "output_type": "stream",
     "text": [
      "1 2 3 4 5 6\n",
      "1806326\n",
      "3\n"
     ]
    }
   ],
   "source": [
    "import random\n",
    "\n",
    "while True:\n",
    "    d1 = random.randint(1,6)\n",
    "    d2 = random.randint(1,6)\n",
    "    d3 = random.randint(1,6)\n",
    "    d4 = random.randint(1,6)\n",
    "    d5 = random.randint(1,6)\n",
    "    d6 = random.randint(1,6)\n",
    "    a+= 1\n",
    "    \n",
    "    if d1 == 1 and d2 == 2 and d3 == 3 and d4 ==4 and d5 ==5 and d6 == 6:\n",
    "        print(d1,d2,d3,d4,d5,d6)\n",
    "        print('반복횟수는 %d입니다.' %a)\n",
    "        print('1~6순차 배치 횟수는 %d입니다.'%j)\n",
    "        break\n",
    "    if d1 == d2 == d3 == d4 == d5 == d6:\n",
    "        j= j+ 1"
   ]
  },
  {
   "cell_type": "code",
   "execution_count": 192,
   "metadata": {},
   "outputs": [
    {
     "name": "stdout",
     "output_type": "stream",
     "text": [
      "★\n",
      "★★\n",
      "★★★\n",
      "★★★★\n",
      "★★★★★\n"
     ]
    }
   ],
   "source": [
    "for i in range(5):\n",
    "    print('★'*(i+1))"
   ]
  },
  {
   "cell_type": "code",
   "execution_count": 203,
   "metadata": {},
   "outputs": [
    {
     "name": "stdout",
     "output_type": "stream",
     "text": [
      "★★★★★\n",
      "★★★★\n",
      "★★★\n",
      "★★\n",
      "★\n"
     ]
    }
   ],
   "source": [
    "for i in range(5,0,-1):\n",
    "    print('★'*i)"
   ]
  },
  {
   "cell_type": "code",
   "execution_count": 205,
   "metadata": {
    "scrolled": true
   },
   "outputs": [
    {
     "name": "stdout",
     "output_type": "stream",
     "text": [
      "    \n",
      "   ★\n",
      "  ★★\n",
      " ★★★\n",
      "★★★★\n"
     ]
    }
   ],
   "source": [
    "n = 5\n",
    "for i in range(n):\n",
    "    j = n - 1 - i\n",
    "    star = '★'\n",
    "    blank = j * \" \"\n",
    "    print(blank+(star*i))"
   ]
  },
  {
   "cell_type": "code",
   "execution_count": 210,
   "metadata": {},
   "outputs": [
    {
     "name": "stdout",
     "output_type": "stream",
     "text": [
      "★\n",
      "★★\n",
      "★★★\n",
      "★★★★\n",
      "★★★★★\n"
     ]
    }
   ],
   "source": [
    "for row in range(1, 6):\n",
    "    for col in range(row):\n",
    "        print('★', end='')\n",
    "    print()"
   ]
  },
  {
   "cell_type": "code",
   "execution_count": 214,
   "metadata": {},
   "outputs": [
    {
     "name": "stdout",
     "output_type": "stream",
     "text": [
      "                   \n",
      "                 ★\n",
      "               ★★\n",
      "             ★★★\n",
      "           ★★★★\n",
      "         ★★★★★\n",
      "       ★★★★★★\n",
      "     ★★★★★★★\n",
      "   ★★★★★★★★\n",
      " ★★★★★★★★★\n"
     ]
    }
   ],
   "source": [
    "n = 10\n",
    "for i in range(n):\n",
    "    j = (2*n-1) - 2*i\n",
    "    star = '★'\n",
    "    blank = j * \" \"\n",
    "    print(blank+(star*i))"
   ]
  },
  {
   "cell_type": "code",
   "execution_count": 229,
   "metadata": {},
   "outputs": [
    {
     "name": "stdout",
     "output_type": "stream",
     "text": [
      "★★★★★★★★★★\n",
      "  ★★★★★★★★★\n",
      "    ★★★★★★★★\n",
      "      ★★★★★★★\n",
      "        ★★★★★★\n",
      "          ★★★★★\n",
      "            ★★★★\n",
      "              ★★★\n",
      "                ★★\n",
      "                  ★\n"
     ]
    }
   ],
   "source": [
    "n = 10\n",
    "for i in range(n):\n",
    "    j = 2*i\n",
    "    k = n - i\n",
    "    star = '★'\n",
    "    blank = j * \" \"\n",
    "    print(blank+(star*k))"
   ]
  },
  {
   "cell_type": "code",
   "execution_count": 1,
   "metadata": {
    "scrolled": false
   },
   "outputs": [
    {
     "ename": "KeyboardInterrupt",
     "evalue": "",
     "output_type": "error",
     "traceback": [
      "\u001b[1;31m---------------------------------------------------------------------------\u001b[0m",
      "\u001b[1;31mKeyboardInterrupt\u001b[0m                         Traceback (most recent call last)",
      "\u001b[1;32m<ipython-input-1-37b190bcb3a6>\u001b[0m in \u001b[0;36m<module>\u001b[1;34m\u001b[0m\n\u001b[0;32m      6\u001b[0m     \u001b[0ma\u001b[0m \u001b[1;33m=\u001b[0m \u001b[0ma\u001b[0m \u001b[1;33m+\u001b[0m \u001b[1;36m1\u001b[0m\u001b[1;33m\u001b[0m\u001b[1;33m\u001b[0m\u001b[0m\n\u001b[0;32m      7\u001b[0m     \u001b[1;32mfor\u001b[0m \u001b[0mi\u001b[0m \u001b[1;32min\u001b[0m \u001b[0mrange\u001b[0m\u001b[1;33m(\u001b[0m\u001b[1;36m6\u001b[0m\u001b[1;33m)\u001b[0m\u001b[1;33m:\u001b[0m\u001b[1;33m\u001b[0m\u001b[1;33m\u001b[0m\u001b[0m\n\u001b[1;32m----> 8\u001b[1;33m         \u001b[0mdice\u001b[0m \u001b[1;33m=\u001b[0m \u001b[0mrandom\u001b[0m\u001b[1;33m.\u001b[0m\u001b[0mrandint\u001b[0m\u001b[1;33m(\u001b[0m\u001b[1;36m1\u001b[0m\u001b[1;33m,\u001b[0m\u001b[1;36m6\u001b[0m\u001b[1;33m)\u001b[0m\u001b[1;33m\u001b[0m\u001b[1;33m\u001b[0m\u001b[0m\n\u001b[0m\u001b[0;32m      9\u001b[0m         \u001b[0mdice_list\u001b[0m\u001b[1;33m.\u001b[0m\u001b[0madd\u001b[0m\u001b[1;33m(\u001b[0m\u001b[0mdice\u001b[0m\u001b[1;33m)\u001b[0m\u001b[1;33m\u001b[0m\u001b[1;33m\u001b[0m\u001b[0m\n\u001b[0;32m     10\u001b[0m     \u001b[1;32mif\u001b[0m \u001b[0mlen\u001b[0m\u001b[1;33m(\u001b[0m\u001b[0mdice_list\u001b[0m\u001b[1;33m)\u001b[0m \u001b[1;33m==\u001b[0m \u001b[1;36m1\u001b[0m\u001b[1;33m:\u001b[0m\u001b[1;33m\u001b[0m\u001b[1;33m\u001b[0m\u001b[0m\n",
      "\u001b[1;32mC:\\ProgramData\\Anaconda3\\lib\\random.py\u001b[0m in \u001b[0;36mrandint\u001b[1;34m(self, a, b)\u001b[0m\n\u001b[0;32m    220\u001b[0m         \"\"\"\n\u001b[0;32m    221\u001b[0m \u001b[1;33m\u001b[0m\u001b[0m\n\u001b[1;32m--> 222\u001b[1;33m         \u001b[1;32mreturn\u001b[0m \u001b[0mself\u001b[0m\u001b[1;33m.\u001b[0m\u001b[0mrandrange\u001b[0m\u001b[1;33m(\u001b[0m\u001b[0ma\u001b[0m\u001b[1;33m,\u001b[0m \u001b[0mb\u001b[0m\u001b[1;33m+\u001b[0m\u001b[1;36m1\u001b[0m\u001b[1;33m)\u001b[0m\u001b[1;33m\u001b[0m\u001b[1;33m\u001b[0m\u001b[0m\n\u001b[0m\u001b[0;32m    223\u001b[0m \u001b[1;33m\u001b[0m\u001b[0m\n\u001b[0;32m    224\u001b[0m     def _randbelow(self, n, int=int, maxsize=1<<BPF, type=type,\n",
      "\u001b[1;32mC:\\ProgramData\\Anaconda3\\lib\\random.py\u001b[0m in \u001b[0;36mrandrange\u001b[1;34m(self, start, stop, step, _int)\u001b[0m\n\u001b[0;32m    196\u001b[0m         \u001b[0mwidth\u001b[0m \u001b[1;33m=\u001b[0m \u001b[0mistop\u001b[0m \u001b[1;33m-\u001b[0m \u001b[0mistart\u001b[0m\u001b[1;33m\u001b[0m\u001b[1;33m\u001b[0m\u001b[0m\n\u001b[0;32m    197\u001b[0m         \u001b[1;32mif\u001b[0m \u001b[0mstep\u001b[0m \u001b[1;33m==\u001b[0m \u001b[1;36m1\u001b[0m \u001b[1;32mand\u001b[0m \u001b[0mwidth\u001b[0m \u001b[1;33m>\u001b[0m \u001b[1;36m0\u001b[0m\u001b[1;33m:\u001b[0m\u001b[1;33m\u001b[0m\u001b[1;33m\u001b[0m\u001b[0m\n\u001b[1;32m--> 198\u001b[1;33m             \u001b[1;32mreturn\u001b[0m \u001b[0mistart\u001b[0m \u001b[1;33m+\u001b[0m \u001b[0mself\u001b[0m\u001b[1;33m.\u001b[0m\u001b[0m_randbelow\u001b[0m\u001b[1;33m(\u001b[0m\u001b[0mwidth\u001b[0m\u001b[1;33m)\u001b[0m\u001b[1;33m\u001b[0m\u001b[1;33m\u001b[0m\u001b[0m\n\u001b[0m\u001b[0;32m    199\u001b[0m         \u001b[1;32mif\u001b[0m \u001b[0mstep\u001b[0m \u001b[1;33m==\u001b[0m \u001b[1;36m1\u001b[0m\u001b[1;33m:\u001b[0m\u001b[1;33m\u001b[0m\u001b[1;33m\u001b[0m\u001b[0m\n\u001b[0;32m    200\u001b[0m             \u001b[1;32mraise\u001b[0m \u001b[0mValueError\u001b[0m\u001b[1;33m(\u001b[0m\u001b[1;34m\"empty range for randrange() (%d,%d, %d)\"\u001b[0m \u001b[1;33m%\u001b[0m \u001b[1;33m(\u001b[0m\u001b[0mistart\u001b[0m\u001b[1;33m,\u001b[0m \u001b[0mistop\u001b[0m\u001b[1;33m,\u001b[0m \u001b[0mwidth\u001b[0m\u001b[1;33m)\u001b[0m\u001b[1;33m)\u001b[0m\u001b[1;33m\u001b[0m\u001b[1;33m\u001b[0m\u001b[0m\n",
      "\u001b[1;32mC:\\ProgramData\\Anaconda3\\lib\\random.py\u001b[0m in \u001b[0;36m_randbelow\u001b[1;34m(self, n, int, maxsize, type, Method, BuiltinMethod)\u001b[0m\n\u001b[0;32m    230\u001b[0m         \u001b[1;31m# Only call self.getrandbits if the original random() builtin method\u001b[0m\u001b[1;33m\u001b[0m\u001b[1;33m\u001b[0m\u001b[1;33m\u001b[0m\u001b[0m\n\u001b[0;32m    231\u001b[0m         \u001b[1;31m# has not been overridden or if a new getrandbits() was supplied.\u001b[0m\u001b[1;33m\u001b[0m\u001b[1;33m\u001b[0m\u001b[1;33m\u001b[0m\u001b[0m\n\u001b[1;32m--> 232\u001b[1;33m         \u001b[1;32mif\u001b[0m \u001b[0mtype\u001b[0m\u001b[1;33m(\u001b[0m\u001b[0mrandom\u001b[0m\u001b[1;33m)\u001b[0m \u001b[1;32mis\u001b[0m \u001b[0mBuiltinMethod\u001b[0m \u001b[1;32mor\u001b[0m \u001b[0mtype\u001b[0m\u001b[1;33m(\u001b[0m\u001b[0mgetrandbits\u001b[0m\u001b[1;33m)\u001b[0m \u001b[1;32mis\u001b[0m \u001b[0mMethod\u001b[0m\u001b[1;33m:\u001b[0m\u001b[1;33m\u001b[0m\u001b[1;33m\u001b[0m\u001b[0m\n\u001b[0m\u001b[0;32m    233\u001b[0m             \u001b[0mk\u001b[0m \u001b[1;33m=\u001b[0m \u001b[0mn\u001b[0m\u001b[1;33m.\u001b[0m\u001b[0mbit_length\u001b[0m\u001b[1;33m(\u001b[0m\u001b[1;33m)\u001b[0m  \u001b[1;31m# don't use (n-1) here because n can be 1\u001b[0m\u001b[1;33m\u001b[0m\u001b[1;33m\u001b[0m\u001b[0m\n\u001b[0;32m    234\u001b[0m             \u001b[0mr\u001b[0m \u001b[1;33m=\u001b[0m \u001b[0mgetrandbits\u001b[0m\u001b[1;33m(\u001b[0m\u001b[0mk\u001b[0m\u001b[1;33m)\u001b[0m          \u001b[1;31m# 0 <= r < 2**k\u001b[0m\u001b[1;33m\u001b[0m\u001b[1;33m\u001b[0m\u001b[0m\n",
      "\u001b[1;31mKeyboardInterrupt\u001b[0m: "
     ]
    }
   ],
   "source": [
    "import random\n",
    "dice_list = set()\n",
    "a = 0\n",
    "j = 0\n",
    "while True:\n",
    "    for i in range(6):\n",
    "        dice = random.randint(1,6)\n",
    "        dice_list.add(dice)\n",
    "    if len(dice_list) == 1:\n",
    "        print(dice_list)\n",
    "        print('반복횟수는 %d입니다.' %a)\n",
    "        print('1~6순차 배치 횟수는 %d입니다.'%j)\n",
    "        break\n",
    "    if len(dice_list) == 6:\n",
    "        j= j+ 1\n",
    "    else:\n",
    "        dice_list.clear()\n",
    "        a = a + 1\n"
   ]
  },
  {
   "cell_type": "code",
   "execution_count": 5,
   "metadata": {},
   "outputs": [
    {
     "name": "stdout",
     "output_type": "stream",
     "text": [
      "1 1 1 1 1 1\n",
      "반복횟수는 3054입니다.\n",
      "1~6순차 배치 횟수는 0입니다.\n"
     ]
    }
   ],
   "source": [
    "import random\n",
    "a = 0\n",
    "j = 0\n",
    "while True:\n",
    "    d1 = random.randint(1,6)\n",
    "    d2 = random.randint(1,6)\n",
    "    d3 = random.randint(1,6)\n",
    "    d4 = random.randint(1,6)\n",
    "    d5 = random.randint(1,6)\n",
    "    d6 = random.randint(1,6)\n",
    "    a+= 1\n",
    "    if d1 == d2 == d3 == d4 == d5 == d6:\n",
    "        print(d1,d2,d3,d4,d5,d6)\n",
    "        print('반복횟수는 %d입니다.' %a)\n",
    "        print('1~6순차 배치 횟수는 %d입니다.'%j)\n",
    "        break\n",
    "    if d1 == 1 and d2 == 2 and d3 == 3 and d4 ==4 and d5 ==5 and d6 == 6:\n",
    "        j= j+ 1"
   ]
  },
  {
   "cell_type": "code",
   "execution_count": 272,
   "metadata": {},
   "outputs": [
    {
     "name": "stdout",
     "output_type": "stream",
     "text": [
      "{3}\n"
     ]
    }
   ],
   "source": [
    "import random\n",
    "dice_list = set()\n",
    "a += 1\n",
    "dice = random.randint(1,6)\n",
    "for i in range(6):\n",
    "    dice = random.randint(1,6)\n",
    "    dice_list.add(dice)"
   ]
  },
  {
   "cell_type": "code",
   "execution_count": 3,
   "metadata": {},
   "outputs": [
    {
     "name": "stdout",
     "output_type": "stream",
     "text": [
      "1 2 3 4 5 6\n",
      "반복횟수는 7130입니다.\n",
      "1~6순차 배치 횟수는 1입니다.\n"
     ]
    }
   ],
   "source": [
    "import random\n",
    "a = 0\n",
    "j = 0\n",
    "while True:\n",
    "    d1 = random.randint(1,6)\n",
    "    d2 = random.randint(1,6)\n",
    "    d3 = random.randint(1,6)\n",
    "    d4 = random.randint(1,6)\n",
    "    d5 = random.randint(1,6)\n",
    "    d6 = random.randint(1,6)\n",
    "    \n",
    "    if d1 == 1 and d2 == 2 and d3 == 3 and d4 ==4 and d5 ==5 and d6 == 6:\n",
    "        print(d1,d2,d3,d4,d5,d6)\n",
    "        print('반복횟수는 %d입니다.' %a)\n",
    "        print('1~6순차 배치 횟수는 %d입니다.'%j)\n",
    "        break\n",
    "    if d1 == d2 == d3 == d4 == d5 == d6:\n",
    "        j= j+ 1\n",
    "    else:\n",
    "        a += 1"
   ]
  },
  {
   "cell_type": "code",
   "execution_count": 6,
   "metadata": {
    "scrolled": true
   },
   "outputs": [
    {
     "name": "stdout",
     "output_type": "stream",
     "text": [
      "{4}\n",
      "반복횟수는 229476입니다.\n",
      "1~6순차 배치 횟수는 629입니다.\n"
     ]
    }
   ],
   "source": [
    "import random\n",
    "a = 0\n",
    "j = 0\n",
    "while True:\n",
    "    dice_list = set()\n",
    "    for i in range(6):\n",
    "        dice = random.randint(1,6)\n",
    "        dice_list.add(dice)\n",
    "        a += 1\n",
    "    if len(dice_list) == 6:\n",
    "        j += 1\n",
    "    if len(dice_list) == 1:\n",
    "        break\n",
    "\n",
    "print(dice_list)\n",
    "print('반복횟수는 %d입니다.' %a)\n",
    "print('1~6순차 배치 횟수는 %d입니다.'%j)"
   ]
  },
  {
   "cell_type": "code",
   "execution_count": 8,
   "metadata": {},
   "outputs": [
    {
     "name": "stdout",
     "output_type": "stream",
     "text": [
      "[5, 5, 5, 5, 5, 5]\n",
      "반복횟수는 12240입니다.\n",
      "1~6순차 배치 횟수는 26입니다.\n"
     ]
    }
   ],
   "source": [
    "import random\n",
    "a = 0\n",
    "j = 0\n",
    "while True:\n",
    "    dice_list = list()\n",
    "    for i in range(6):\n",
    "        dice = random.randint(1,6)\n",
    "        dice_list.append(dice)\n",
    "        a += 1\n",
    "    if len(set(dice_list)) == 6:\n",
    "        j += 1\n",
    "    if len(set(dice_list)) == 1:\n",
    "        break\n",
    "\n",
    "print(dice_list)\n",
    "print('반복횟수는 %d입니다.' %a)\n",
    "print('1~6순차 배치 횟수는 %d입니다.'%j)"
   ]
  },
  {
   "cell_type": "code",
   "execution_count": 18,
   "metadata": {},
   "outputs": [
    {
     "name": "stdout",
     "output_type": "stream",
     "text": [
      "정수 1 입력 : 5\n",
      "정수 2 입력 : 6\n",
      "연산자 입력 (+, -, *, //, %) : +\n",
      "5 + 6 = 11\n"
     ]
    }
   ],
   "source": [
    "def calc (a, b, op):\n",
    "    c = a +op +b\n",
    "    return eval(c)\n",
    "a = input('정수 1 입력 : ')\n",
    "b = input('정수 2 입력 : ')\n",
    "op = input('연산자 입력 (+, -, *, //, %) : ')\n",
    "print(a, op, b, \"=\" ,calc(a,b,op))"
   ]
  },
  {
   "cell_type": "code",
   "execution_count": 16,
   "metadata": {},
   "outputs": [
    {
     "name": "stdout",
     "output_type": "stream",
     "text": [
      "python\n",
      "python-\n"
     ]
    }
   ],
   "source": [
    "def test (name):\n",
    "    return name + \"-\"\n",
    "s = 'python'\n",
    "result = test(s)\n",
    "print(s)\n",
    "print(result)"
   ]
  },
  {
   "cell_type": "code",
   "execution_count": 24,
   "metadata": {},
   "outputs": [
    {
     "name": "stdout",
     "output_type": "stream",
     "text": [
      "[1, 2, 3, 4, 5]\n"
     ]
    },
    {
     "ename": "TypeError",
     "evalue": "'type' object is not subscriptable",
     "output_type": "error",
     "traceback": [
      "\u001b[1;31m---------------------------------------------------------------------------\u001b[0m",
      "\u001b[1;31mTypeError\u001b[0m                                 Traceback (most recent call last)",
      "\u001b[1;32m<ipython-input-24-22b339153ba7>\u001b[0m in \u001b[0;36m<module>\u001b[1;34m\u001b[0m\n\u001b[0;32m      5\u001b[0m         \u001b[0mlsit\u001b[0m\u001b[1;33m[\u001b[0m\u001b[0mi\u001b[0m\u001b[1;33m]\u001b[0m \u001b[1;33m=\u001b[0m \u001b[1;33m(\u001b[0m\u001b[0mlist\u001b[0m\u001b[1;33m[\u001b[0m\u001b[0mi\u001b[0m\u001b[1;33m]\u001b[0m\u001b[1;33m+\u001b[0m\u001b[1;36m1\u001b[0m\u001b[1;33m)\u001b[0m\u001b[1;33m**\u001b[0m\u001b[1;36m2\u001b[0m\u001b[1;33m\u001b[0m\u001b[1;33m\u001b[0m\u001b[0m\n\u001b[0;32m      6\u001b[0m \u001b[0mprint\u001b[0m\u001b[1;33m(\u001b[0m\u001b[0mlsit1\u001b[0m\u001b[1;33m)\u001b[0m\u001b[1;33m\u001b[0m\u001b[1;33m\u001b[0m\u001b[0m\n\u001b[1;32m----> 7\u001b[1;33m \u001b[0mmul\u001b[0m\u001b[1;33m(\u001b[0m\u001b[1;33m)\u001b[0m\u001b[1;33m\u001b[0m\u001b[1;33m\u001b[0m\u001b[0m\n\u001b[0m\u001b[0;32m      8\u001b[0m \u001b[0mprint\u001b[0m\u001b[1;33m(\u001b[0m\u001b[0mlist1\u001b[0m\u001b[1;33m)\u001b[0m\u001b[1;33m\u001b[0m\u001b[1;33m\u001b[0m\u001b[0m\n",
      "\u001b[1;32m<ipython-input-24-22b339153ba7>\u001b[0m in \u001b[0;36mmul\u001b[1;34m()\u001b[0m\n\u001b[0;32m      3\u001b[0m \u001b[1;32mdef\u001b[0m \u001b[0mmul\u001b[0m\u001b[1;33m(\u001b[0m\u001b[1;33m)\u001b[0m\u001b[1;33m:\u001b[0m\u001b[1;33m\u001b[0m\u001b[1;33m\u001b[0m\u001b[0m\n\u001b[0;32m      4\u001b[0m     \u001b[1;32mfor\u001b[0m \u001b[0mi\u001b[0m \u001b[1;32min\u001b[0m \u001b[0mrange\u001b[0m\u001b[1;33m(\u001b[0m\u001b[1;36m5\u001b[0m\u001b[1;33m)\u001b[0m\u001b[1;33m:\u001b[0m\u001b[1;33m\u001b[0m\u001b[1;33m\u001b[0m\u001b[0m\n\u001b[1;32m----> 5\u001b[1;33m         \u001b[0mlsit\u001b[0m\u001b[1;33m[\u001b[0m\u001b[0mi\u001b[0m\u001b[1;33m]\u001b[0m \u001b[1;33m=\u001b[0m \u001b[1;33m(\u001b[0m\u001b[0mlist\u001b[0m\u001b[1;33m[\u001b[0m\u001b[0mi\u001b[0m\u001b[1;33m]\u001b[0m\u001b[1;33m+\u001b[0m\u001b[1;36m1\u001b[0m\u001b[1;33m)\u001b[0m\u001b[1;33m**\u001b[0m\u001b[1;36m2\u001b[0m\u001b[1;33m\u001b[0m\u001b[1;33m\u001b[0m\u001b[0m\n\u001b[0m\u001b[0;32m      6\u001b[0m \u001b[0mprint\u001b[0m\u001b[1;33m(\u001b[0m\u001b[0mlsit1\u001b[0m\u001b[1;33m)\u001b[0m\u001b[1;33m\u001b[0m\u001b[1;33m\u001b[0m\u001b[0m\n\u001b[0;32m      7\u001b[0m \u001b[0mmul\u001b[0m\u001b[1;33m(\u001b[0m\u001b[1;33m)\u001b[0m\u001b[1;33m\u001b[0m\u001b[1;33m\u001b[0m\u001b[0m\n",
      "\u001b[1;31mTypeError\u001b[0m: 'type' object is not subscriptable"
     ]
    }
   ],
   "source": [
    "lsit1 = [1,2,3,4,5]\n",
    "\n",
    "def mul():\n",
    "    for i in range(5):\n",
    "        lsit[i] = (list[i]+1)**2\n",
    "        return \n",
    "print(lsit1)\n",
    "mul()\n",
    "print(list1)"
   ]
  },
  {
   "cell_type": "code",
   "execution_count": 26,
   "metadata": {},
   "outputs": [
    {
     "name": "stdout",
     "output_type": "stream",
     "text": [
      "<class 'tuple'>\n",
      "3\n",
      "<class 'tuple'>\n",
      "15\n",
      "<class 'tuple'>\n",
      "55\n",
      "<class 'tuple'>\n"
     ]
    },
    {
     "ename": "TypeError",
     "evalue": "unsupported operand type(s) for +: 'int' and 'tuple'",
     "output_type": "error",
     "traceback": [
      "\u001b[1;31m---------------------------------------------------------------------------\u001b[0m",
      "\u001b[1;31mTypeError\u001b[0m                                 Traceback (most recent call last)",
      "\u001b[1;32m<ipython-input-26-da5630e87965>\u001b[0m in \u001b[0;36m<module>\u001b[1;34m\u001b[0m\n\u001b[0;32m      7\u001b[0m \u001b[1;31m# print(asterik_test(1,2,[3,4,5]))\u001b[0m\u001b[1;33m\u001b[0m\u001b[1;33m\u001b[0m\u001b[1;33m\u001b[0m\u001b[0m\n\u001b[0;32m      8\u001b[0m \u001b[1;31m# print(asterik_test(1,2,[3,4,5],[7,8,9]))\u001b[0m\u001b[1;33m\u001b[0m\u001b[1;33m\u001b[0m\u001b[1;33m\u001b[0m\u001b[0m\n\u001b[1;32m----> 9\u001b[1;33m \u001b[0mprint\u001b[0m\u001b[1;33m(\u001b[0m\u001b[0masterik_test\u001b[0m\u001b[1;33m(\u001b[0m\u001b[1;36m1\u001b[0m\u001b[1;33m,\u001b[0m\u001b[1;36m2\u001b[0m\u001b[1;33m,\u001b[0m\u001b[1;33m(\u001b[0m\u001b[1;36m3\u001b[0m\u001b[1;33m,\u001b[0m\u001b[1;36m4\u001b[0m\u001b[1;33m,\u001b[0m\u001b[1;36m5\u001b[0m\u001b[1;33m)\u001b[0m\u001b[1;33m)\u001b[0m\u001b[1;33m)\u001b[0m\u001b[1;33m\u001b[0m\u001b[1;33m\u001b[0m\u001b[0m\n\u001b[0m\u001b[0;32m     10\u001b[0m \u001b[1;31m# print(asterik_test(1,2,(3,4,5),(7,8,9)))\u001b[0m\u001b[1;33m\u001b[0m\u001b[1;33m\u001b[0m\u001b[1;33m\u001b[0m\u001b[0m\n",
      "\u001b[1;32m<ipython-input-26-da5630e87965>\u001b[0m in \u001b[0;36masterik_test\u001b[1;34m(a, b, *args)\u001b[0m\n\u001b[0;32m      1\u001b[0m \u001b[1;32mdef\u001b[0m \u001b[0masterik_test\u001b[0m\u001b[1;33m(\u001b[0m\u001b[0ma\u001b[0m\u001b[1;33m,\u001b[0m \u001b[0mb\u001b[0m\u001b[1;33m,\u001b[0m \u001b[1;33m*\u001b[0m\u001b[0margs\u001b[0m\u001b[1;33m)\u001b[0m\u001b[1;33m:\u001b[0m\u001b[1;33m\u001b[0m\u001b[1;33m\u001b[0m\u001b[0m\n\u001b[0;32m      2\u001b[0m     \u001b[0mprint\u001b[0m\u001b[1;33m(\u001b[0m\u001b[0mtype\u001b[0m\u001b[1;33m(\u001b[0m\u001b[0margs\u001b[0m\u001b[1;33m)\u001b[0m\u001b[1;33m)\u001b[0m\u001b[1;33m\u001b[0m\u001b[1;33m\u001b[0m\u001b[0m\n\u001b[1;32m----> 3\u001b[1;33m     \u001b[1;32mreturn\u001b[0m \u001b[0ma\u001b[0m \u001b[1;33m+\u001b[0m \u001b[0mb\u001b[0m \u001b[1;33m+\u001b[0m \u001b[0msum\u001b[0m\u001b[1;33m(\u001b[0m\u001b[0margs\u001b[0m\u001b[1;33m)\u001b[0m\u001b[1;33m\u001b[0m\u001b[1;33m\u001b[0m\u001b[0m\n\u001b[0m\u001b[0;32m      4\u001b[0m \u001b[0mprint\u001b[0m\u001b[1;33m(\u001b[0m\u001b[0masterik_test\u001b[0m\u001b[1;33m(\u001b[0m\u001b[1;36m1\u001b[0m\u001b[1;33m,\u001b[0m\u001b[1;36m2\u001b[0m\u001b[1;33m)\u001b[0m\u001b[1;33m)\u001b[0m\u001b[1;33m\u001b[0m\u001b[1;33m\u001b[0m\u001b[0m\n\u001b[0;32m      5\u001b[0m \u001b[0mprint\u001b[0m\u001b[1;33m(\u001b[0m\u001b[0masterik_test\u001b[0m\u001b[1;33m(\u001b[0m\u001b[1;36m1\u001b[0m\u001b[1;33m,\u001b[0m\u001b[1;36m2\u001b[0m\u001b[1;33m,\u001b[0m\u001b[1;36m3\u001b[0m\u001b[1;33m,\u001b[0m\u001b[1;36m4\u001b[0m\u001b[1;33m,\u001b[0m\u001b[1;36m5\u001b[0m\u001b[1;33m)\u001b[0m\u001b[1;33m)\u001b[0m\u001b[1;33m\u001b[0m\u001b[1;33m\u001b[0m\u001b[0m\n",
      "\u001b[1;31mTypeError\u001b[0m: unsupported operand type(s) for +: 'int' and 'tuple'"
     ]
    }
   ],
   "source": [
    "def asterik_test(a, b, *args):\n",
    "    print(type(args))\n",
    "    return a + b + sum(args)\n",
    "print(asterik_test(1,2))\n",
    "print(asterik_test(1,2,3,4,5))\n",
    "print(asterik_test(1,2,3,4,5,6,7,8,9,10))\n",
    "# print(asterik_test(1,2,[3,4,5]))\n",
    "# print(asterik_test(1,2,[3,4,5],[7,8,9]))\n",
    "print(asterik_test(1,2,(3,4,5)))\n",
    "# print(asterik_test(1,2,(3,4,5),(7,8,9)))"
   ]
  },
  {
   "cell_type": "code",
   "execution_count": 28,
   "metadata": {},
   "outputs": [
    {
     "ename": "TypeError",
     "evalue": "asterik_test() missing 2 required keyword-only arguments: 'a' and 'b'",
     "output_type": "error",
     "traceback": [
      "\u001b[1;31m---------------------------------------------------------------------------\u001b[0m",
      "\u001b[1;31mTypeError\u001b[0m                                 Traceback (most recent call last)",
      "\u001b[1;32m<ipython-input-28-172fc987c237>\u001b[0m in \u001b[0;36m<module>\u001b[1;34m\u001b[0m\n\u001b[0;32m      2\u001b[0m     \u001b[0mprint\u001b[0m\u001b[1;33m(\u001b[0m\u001b[0mtype\u001b[0m\u001b[1;33m(\u001b[0m\u001b[0margs\u001b[0m\u001b[1;33m)\u001b[0m\u001b[1;33m)\u001b[0m\u001b[1;33m\u001b[0m\u001b[1;33m\u001b[0m\u001b[0m\n\u001b[0;32m      3\u001b[0m     \u001b[1;32mreturn\u001b[0m \u001b[0ma\u001b[0m \u001b[1;33m+\u001b[0m \u001b[0mb\u001b[0m \u001b[1;33m+\u001b[0m \u001b[0msum\u001b[0m\u001b[1;33m(\u001b[0m\u001b[0margs\u001b[0m\u001b[1;33m)\u001b[0m\u001b[1;33m\u001b[0m\u001b[1;33m\u001b[0m\u001b[0m\n\u001b[1;32m----> 4\u001b[1;33m \u001b[0mprint\u001b[0m\u001b[1;33m(\u001b[0m\u001b[0masterik_test\u001b[0m\u001b[1;33m(\u001b[0m\u001b[1;36m1\u001b[0m\u001b[1;33m,\u001b[0m\u001b[1;36m2\u001b[0m\u001b[1;33m)\u001b[0m\u001b[1;33m)\u001b[0m\u001b[1;33m\u001b[0m\u001b[1;33m\u001b[0m\u001b[0m\n\u001b[0m\u001b[0;32m      5\u001b[0m \u001b[0mprint\u001b[0m\u001b[1;33m(\u001b[0m\u001b[0masterik_test\u001b[0m\u001b[1;33m(\u001b[0m\u001b[1;36m1\u001b[0m\u001b[1;33m,\u001b[0m\u001b[1;36m2\u001b[0m\u001b[1;33m,\u001b[0m\u001b[1;36m3\u001b[0m\u001b[1;33m,\u001b[0m\u001b[1;36m4\u001b[0m\u001b[1;33m,\u001b[0m\u001b[1;36m5\u001b[0m\u001b[1;33m)\u001b[0m\u001b[1;33m)\u001b[0m\u001b[1;33m\u001b[0m\u001b[1;33m\u001b[0m\u001b[0m\n\u001b[0;32m      6\u001b[0m \u001b[0mprint\u001b[0m\u001b[1;33m(\u001b[0m\u001b[0masterik_test\u001b[0m\u001b[1;33m(\u001b[0m\u001b[1;36m1\u001b[0m\u001b[1;33m,\u001b[0m\u001b[1;36m2\u001b[0m\u001b[1;33m,\u001b[0m\u001b[1;36m3\u001b[0m\u001b[1;33m,\u001b[0m\u001b[1;36m4\u001b[0m\u001b[1;33m,\u001b[0m\u001b[1;36m5\u001b[0m\u001b[1;33m,\u001b[0m\u001b[1;36m6\u001b[0m\u001b[1;33m,\u001b[0m\u001b[1;36m7\u001b[0m\u001b[1;33m,\u001b[0m\u001b[1;36m8\u001b[0m\u001b[1;33m,\u001b[0m\u001b[1;36m9\u001b[0m\u001b[1;33m,\u001b[0m\u001b[1;36m10\u001b[0m\u001b[1;33m)\u001b[0m\u001b[1;33m)\u001b[0m\u001b[1;33m\u001b[0m\u001b[1;33m\u001b[0m\u001b[0m\n",
      "\u001b[1;31mTypeError\u001b[0m: asterik_test() missing 2 required keyword-only arguments: 'a' and 'b'"
     ]
    }
   ],
   "source": [
    "def asterik_test(*args,a, b):\n",
    "    print(type(args))\n",
    "    return a + b + sum(args)\n",
    "print(asterik_test(1,2))                 \n",
    "print(asterik_test(1,2,3,4,5))\n",
    "print(asterik_test(1,2,3,4,5,6,7,8,9,10))\n",
    "# print(asterik_test(1,2,[3,4,5]))\n",
    "# print(asterik_test(1,2,[3,4,5],[7,8,9]))\n",
    "print(asterik_test(1,2,(3,4,5)))\n",
    "# print(asterik_test(1,2,(3,4,5),(7,8,9)))"
   ]
  },
  {
   "cell_type": "code",
   "execution_count": 33,
   "metadata": {},
   "outputs": [
    {
     "name": "stdout",
     "output_type": "stream",
     "text": [
      "Help on function calcsum in module __main__:\n",
      "\n",
      "calcsum(n)\n",
      "    1~n까지의 합계를 구해 리턴한다.\n",
      "\n",
      "55\n"
     ]
    }
   ],
   "source": [
    "def calcsum(n):\n",
    "    \"\"\"1~n까지의 합계를 구해 리턴한다.\"\"\"\n",
    "    Sum = 0\n",
    "    for i in range(n+1):\n",
    "        Sum += i\n",
    "    return Sum\n",
    "help(calcsum)\n",
    "print(calcsum(10))"
   ]
  },
  {
   "cell_type": "code",
   "execution_count": 35,
   "metadata": {},
   "outputs": [
    {
     "name": "stdout",
     "output_type": "stream",
     "text": [
      "[0, 1, 2, 3, 4, 5, 6, 7, 8, 9]\n"
     ]
    }
   ],
   "source": [
    "result = [i for i in range(10)]\n",
    "print(result)"
   ]
  },
  {
   "cell_type": "code",
   "execution_count": 36,
   "metadata": {},
   "outputs": [
    {
     "name": "stdout",
     "output_type": "stream",
     "text": [
      "[0, 2, 4, 6, 8]\n"
     ]
    }
   ],
   "source": [
    "result = [i for i in range(10) if i %2 ==0 ]\n",
    "print(result)"
   ]
  },
  {
   "cell_type": "code",
   "execution_count": 38,
   "metadata": {},
   "outputs": [
    {
     "name": "stdout",
     "output_type": "stream",
     "text": [
      "[0, 10, 2, 10, 4, 10, 6, 10, 8, 10]\n"
     ]
    }
   ],
   "source": [
    "result = [i  if i %2 ==0 else 10 for i in range(10)]\n",
    "print(result)"
   ]
  },
  {
   "cell_type": "code",
   "execution_count": 45,
   "metadata": {},
   "outputs": [
    {
     "name": "stdout",
     "output_type": "stream",
     "text": [
      "실행시간 :  6.905672073364258\n"
     ]
    }
   ],
   "source": [
    "def s_v_p(scalar,vector):\n",
    "    result = []\n",
    "    for value in vector:\n",
    "        result.append(scalar * value)\n",
    "    return result\n",
    "\n",
    "i_max = 10000\n",
    "\n",
    "vector = list(range(i_max))\n",
    "\n",
    "scalar = 2\n",
    "\n",
    "import time\n",
    "\n",
    "s_t = time.time()\n",
    "\n",
    "for _ in range(i_max):\n",
    "    s_v_p(scalar, vector)\n",
    "e_t = time.time()\n",
    "print('실행시간 : ', (e_t - s_t))"
   ]
  },
  {
   "cell_type": "code",
   "execution_count": 46,
   "metadata": {},
   "outputs": [
    {
     "name": "stdout",
     "output_type": "stream",
     "text": [
      "실행시간 :  5.840591192245483\n"
     ]
    }
   ],
   "source": [
    "it_max = 10000\n",
    "\n",
    "vector = list(range(it_max))\n",
    "\n",
    "scalar = 2\n",
    "s_t = time.time()\n",
    "for _ in range(it_max):\n",
    "    [scalar * value for value in range(it_max)]\n",
    "e_t = time.time()\n",
    "print('실행시간 : ', (e_t - s_t))"
   ]
  },
  {
   "cell_type": "code",
   "execution_count": null,
   "metadata": {},
   "outputs": [],
   "source": []
  }
 ],
 "metadata": {
  "kernelspec": {
   "display_name": "Python 3",
   "language": "python",
   "name": "python3"
  },
  "language_info": {
   "codemirror_mode": {
    "name": "ipython",
    "version": 3
   },
   "file_extension": ".py",
   "mimetype": "text/x-python",
   "name": "python",
   "nbconvert_exporter": "python",
   "pygments_lexer": "ipython3",
   "version": "3.7.6"
  }
 },
 "nbformat": 4,
 "nbformat_minor": 4
}
