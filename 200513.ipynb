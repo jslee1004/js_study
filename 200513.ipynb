{
 "cells": [
  {
   "cell_type": "code",
   "execution_count": 5,
   "metadata": {},
   "outputs": [
    {
     "ename": "NameError",
     "evalue": "name 'Print' is not defined",
     "output_type": "error",
     "traceback": [
      "\u001b[1;31m---------------------------------------------------------------------------\u001b[0m",
      "\u001b[1;31mNameError\u001b[0m                                 Traceback (most recent call last)",
      "\u001b[1;32m<ipython-input-5-f4c8377d8a60>\u001b[0m in \u001b[0;36m<module>\u001b[1;34m\u001b[0m\n\u001b[1;32m----> 1\u001b[1;33m \u001b[0mPrint\u001b[0m\u001b[1;33m(\u001b[0m\u001b[1;36m3\u001b[0m \u001b[1;33m+\u001b[0m \u001b[1;36m4\u001b[0m\u001b[1;33m)\u001b[0m\u001b[1;33m\u001b[0m\u001b[1;33m\u001b[0m\u001b[0m\n\u001b[0m",
      "\u001b[1;31mNameError\u001b[0m: name 'Print' is not defined"
     ]
    }
   ],
   "source": [
    "Print(3 + 4)"
   ]
  },
  {
   "cell_type": "code",
   "execution_count": 6,
   "metadata": {},
   "outputs": [
    {
     "name": "stdout",
     "output_type": "stream",
     "text": [
      "7\n"
     ]
    }
   ],
   "source": [
    "print(3 + 4)"
   ]
  },
  {
   "cell_type": "code",
   "execution_count": 16,
   "metadata": {
    "scrolled": true
   },
   "outputs": [
    {
     "name": "stdout",
     "output_type": "stream",
     "text": [
      "* \n",
      "* * \n",
      "* * * \n",
      "* * * * \n",
      "* * * * * \n",
      "* * * * * * \n",
      "* * * * * * * \n",
      "* * * * * * * * \n",
      "* * * * * * * * * \n",
      "* * * * * * * * * * \n"
     ]
    }
   ],
   "source": [
    "for y in range(1, 11):\n",
    "    for x in range(y):\n",
    "        print('*', end = ' ')\n",
    "    print()"
   ]
  },
  {
   "cell_type": "code",
   "execution_count": 8,
   "metadata": {},
   "outputs": [
    {
     "name": "stdout",
     "output_type": "stream",
     "text": [
      "\n",
      "*\n",
      "**\n",
      "***\n",
      "****\n",
      "*****\n",
      "******\n",
      "*******\n",
      "********\n",
      "*********\n",
      "**********\n"
     ]
    }
   ],
   "source": [
    "for y in range(11):\n",
    "    for x in range(y):\n",
    "        print('*', end = \"\")\n",
    "    print()"
   ]
  },
  {
   "cell_type": "code",
   "execution_count": 13,
   "metadata": {},
   "outputs": [
    {
     "name": "stdout",
     "output_type": "stream",
     "text": [
      "* 1 0 \n",
      "* 2 0 * 2 1 \n",
      "* 3 0 * 3 1 * 3 2 \n",
      "* 4 0 * 4 1 * 4 2 * 4 3 \n",
      "* 5 0 * 5 1 * 5 2 * 5 3 * 5 4 \n",
      "* 6 0 * 6 1 * 6 2 * 6 3 * 6 4 * 6 5 \n",
      "* 7 0 * 7 1 * 7 2 * 7 3 * 7 4 * 7 5 * 7 6 \n",
      "* 8 0 * 8 1 * 8 2 * 8 3 * 8 4 * 8 5 * 8 6 * 8 7 \n",
      "* 9 0 * 9 1 * 9 2 * 9 3 * 9 4 * 9 5 * 9 6 * 9 7 * 9 8 \n",
      "* 10 0 * 10 1 * 10 2 * 10 3 * 10 4 * 10 5 * 10 6 * 10 7 * 10 8 * 10 9 \n"
     ]
    }
   ],
   "source": [
    "for y in range(1, 11):\n",
    "    for x in range(y):\n",
    "        print('*', y, x, end = ' ')\n",
    "    print()"
   ]
  },
  {
   "cell_type": "code",
   "execution_count": null,
   "metadata": {},
   "outputs": [],
   "source": []
  },
  {
   "cell_type": "code",
   "execution_count": 15,
   "metadata": {},
   "outputs": [
    {
     "name": "stdout",
     "output_type": "stream",
     "text": [
      "* \n",
      "* * \n",
      "* * * \n",
      "* * * * \n",
      "* * * * * \n",
      "* * * * * * \n",
      "* * * * * * * \n",
      "* * * * * * * * \n",
      "* * * * * * * * * \n",
      "* * * * * * * * * * \n"
     ]
    }
   ],
   "source": [
    "\"\"\"\n",
    "여러줄 주석\n",
    "\"\"\"\n",
    "\n",
    "for y in range(1, 11):\n",
    "    for x in range(y):\n",
    "        print('*', end = ' ')\n",
    "    print()"
   ]
  },
  {
   "cell_type": "code",
   "execution_count": 9,
   "metadata": {},
   "outputs": [
    {
     "name": "stdout",
     "output_type": "stream",
     "text": [
      "12,34,34\n"
     ]
    }
   ],
   "source": [
    "a = 12\n",
    "b = 34\n",
    "print(a, b, b, sep = ',')    #sep=구분자 end=끝문자"
   ]
  },
  {
   "cell_type": "code",
   "execution_count": 19,
   "metadata": {
    "scrolled": true
   },
   "outputs": [
    {
     "name": "stdout",
     "output_type": "stream",
     "text": [
      " 가격을 입력하세요500\n",
      "갯수를 입력하세요5\n"
     ]
    },
    {
     "ename": "TypeError",
     "evalue": "can't multiply sequence by non-int of type 'str'",
     "output_type": "error",
     "traceback": [
      "\u001b[1;31m---------------------------------------------------------------------------\u001b[0m",
      "\u001b[1;31mTypeError\u001b[0m                                 Traceback (most recent call last)",
      "\u001b[1;32m<ipython-input-19-4edf0fc63f3a>\u001b[0m in \u001b[0;36m<module>\u001b[1;34m\u001b[0m\n\u001b[0;32m      1\u001b[0m \u001b[0mprice\u001b[0m \u001b[1;33m=\u001b[0m \u001b[0minput\u001b[0m\u001b[1;33m(\u001b[0m\u001b[1;34m' 가격을 입력하세요'\u001b[0m\u001b[1;33m)\u001b[0m\u001b[1;33m\u001b[0m\u001b[1;33m\u001b[0m\u001b[0m\n\u001b[0;32m      2\u001b[0m \u001b[0mnum\u001b[0m \u001b[1;33m=\u001b[0m \u001b[0minput\u001b[0m\u001b[1;33m(\u001b[0m\u001b[1;34m'갯수를 입력하세요'\u001b[0m\u001b[1;33m)\u001b[0m\u001b[1;33m\u001b[0m\u001b[1;33m\u001b[0m\u001b[0m\n\u001b[1;32m----> 3\u001b[1;33m \u001b[0mSum\u001b[0m \u001b[1;33m=\u001b[0m \u001b[0mprice\u001b[0m \u001b[1;33m*\u001b[0m \u001b[0mnum\u001b[0m\u001b[1;33m\u001b[0m\u001b[1;33m\u001b[0m\u001b[0m\n\u001b[0m\u001b[0;32m      4\u001b[0m \u001b[0mPrint\u001b[0m\u001b[1;33m(\u001b[0m\u001b[1;34m'총액은'\u001b[0m \u001b[1;33m,\u001b[0m \u001b[0mSum\u001b[0m \u001b[1;33m,\u001b[0m \u001b[1;34m'원입니다.'\u001b[0m\u001b[1;33m)\u001b[0m\u001b[1;33m\u001b[0m\u001b[1;33m\u001b[0m\u001b[0m\n",
      "\u001b[1;31mTypeError\u001b[0m: can't multiply sequence by non-int of type 'str'"
     ]
    }
   ],
   "source": [
    "price = input(' 가격을 입력하세요')\n",
    "num = input('갯수를 입력하세요')\n",
    "Sum = price * num\n",
    "print('총액은' , Sum , '원입니다.')"
   ]
  },
  {
   "cell_type": "code",
   "execution_count": 13,
   "metadata": {},
   "outputs": [
    {
     "name": "stdout",
     "output_type": "stream",
     "text": [
      "가격을 입력하세요. : 500\n",
      "갯수를 입력하세요. : 10\n",
      "총액은 5000원입니다.\n"
     ]
    }
   ],
   "source": [
    "price = int(input('가격을 입력하세요. : '))\n",
    "num = int(input('갯수를 입력하세요. : '))\n",
    "Sum = price * num\n",
    "print('총액은 %s원입니다.'%Sum)"
   ]
  },
  {
   "cell_type": "code",
   "execution_count": 18,
   "metadata": {},
   "outputs": [
    {
     "name": "stdout",
     "output_type": "stream",
     "text": [
      "가격을 입력하세요. : 500\n",
      "갯수를 입력하세요. : 10\n",
      "총액은 5000원입니다.\n"
     ]
    }
   ],
   "source": [
    "price = input('가격을 입력하세요. : ')\n",
    "num = input('갯수를 입력하세요. : ')\n",
    "Sum = int(price) * int(num)\n",
    "print('총액은 %s원입니다.'%Sum)"
   ]
  },
  {
   "cell_type": "code",
   "execution_count": 23,
   "metadata": {},
   "outputs": [
    {
     "name": "stdout",
     "output_type": "stream",
     "text": [
      "가격을 입력하세요 : 500\n",
      "갯수를 입력하세요 : 5\n",
      "총액은 2500 원입니다.\n"
     ]
    }
   ],
   "source": [
    "price = input('가격을 입력하세요 : ')\n",
    "num = input('갯수를 입력하세요 : ')\n",
    "sum = int(price) * int(num)\n",
    "print('총액은' , Sum , '원입니다.')"
   ]
  },
  {
   "cell_type": "code",
   "execution_count": 2,
   "metadata": {},
   "outputs": [
    {
     "name": "stdout",
     "output_type": "stream",
     "text": [
      "Help on method raw_input in module ipykernel.kernelbase:\n",
      "\n",
      "raw_input(prompt='') method of ipykernel.ipkernel.IPythonKernel instance\n",
      "    Forward raw_input to frontends\n",
      "    \n",
      "    Raises\n",
      "    ------\n",
      "    StdinNotImplentedError if active frontend doesn't support stdin.\n",
      "\n"
     ]
    }
   ],
   "source": [
    "help(input)"
   ]
  },
  {
   "cell_type": "code",
   "execution_count": 3,
   "metadata": {},
   "outputs": [
    {
     "name": "stdout",
     "output_type": "stream",
     "text": [
      "Help on module pprint:\n",
      "\n",
      "NAME\n",
      "    pprint - Support to pretty-print lists, tuples, & dictionaries recursively.\n",
      "\n",
      "DESCRIPTION\n",
      "    Very simple, but useful, especially in debugging data structures.\n",
      "    \n",
      "    Classes\n",
      "    -------\n",
      "    \n",
      "    PrettyPrinter()\n",
      "        Handle pretty-printing operations onto a stream using a configured\n",
      "        set of formatting parameters.\n",
      "    \n",
      "    Functions\n",
      "    ---------\n",
      "    \n",
      "    pformat()\n",
      "        Format a Python object into a pretty-printed representation.\n",
      "    \n",
      "    pprint()\n",
      "        Pretty-print a Python object to a stream [default is sys.stdout].\n",
      "    \n",
      "    saferepr()\n",
      "        Generate a 'standard' repr()-like value, but protect against recursive\n",
      "        data structures.\n",
      "\n",
      "CLASSES\n",
      "    builtins.object\n",
      "        PrettyPrinter\n",
      "    \n",
      "    class PrettyPrinter(builtins.object)\n",
      "     |  PrettyPrinter(indent=1, width=80, depth=None, stream=None, *, compact=False)\n",
      "     |  \n",
      "     |  Methods defined here:\n",
      "     |  \n",
      "     |  __init__(self, indent=1, width=80, depth=None, stream=None, *, compact=False)\n",
      "     |      Handle pretty printing operations onto a stream using a set of\n",
      "     |      configured parameters.\n",
      "     |      \n",
      "     |      indent\n",
      "     |          Number of spaces to indent for each level of nesting.\n",
      "     |      \n",
      "     |      width\n",
      "     |          Attempted maximum number of columns in the output.\n",
      "     |      \n",
      "     |      depth\n",
      "     |          The maximum depth to print out nested structures.\n",
      "     |      \n",
      "     |      stream\n",
      "     |          The desired output stream.  If omitted (or false), the standard\n",
      "     |          output stream available at construction will be used.\n",
      "     |      \n",
      "     |      compact\n",
      "     |          If true, several items will be combined in one line.\n",
      "     |  \n",
      "     |  format(self, object, context, maxlevels, level)\n",
      "     |      Format object for a specific context, returning a string\n",
      "     |      and flags indicating whether the representation is 'readable'\n",
      "     |      and whether the object represents a recursive construct.\n",
      "     |  \n",
      "     |  isreadable(self, object)\n",
      "     |  \n",
      "     |  isrecursive(self, object)\n",
      "     |  \n",
      "     |  pformat(self, object)\n",
      "     |  \n",
      "     |  pprint(self, object)\n",
      "     |  \n",
      "     |  ----------------------------------------------------------------------\n",
      "     |  Data descriptors defined here:\n",
      "     |  \n",
      "     |  __dict__\n",
      "     |      dictionary for instance variables (if defined)\n",
      "     |  \n",
      "     |  __weakref__\n",
      "     |      list of weak references to the object (if defined)\n",
      "\n",
      "FUNCTIONS\n",
      "    isreadable(object)\n",
      "        Determine if saferepr(object) is readable by eval().\n",
      "    \n",
      "    isrecursive(object)\n",
      "        Determine if object requires a recursive representation.\n",
      "    \n",
      "    pformat(object, indent=1, width=80, depth=None, *, compact=False)\n",
      "        Format a Python object into a pretty-printed representation.\n",
      "    \n",
      "    pprint(object, stream=None, indent=1, width=80, depth=None, *, compact=False)\n",
      "        Pretty-print a Python object to a stream [default is sys.stdout].\n",
      "    \n",
      "    saferepr(object)\n",
      "        Version of repr() which can handle recursive data structures.\n",
      "\n",
      "DATA\n",
      "    __all__ = ['pprint', 'pformat', 'isreadable', 'isrecursive', 'saferepr...\n",
      "\n",
      "FILE\n",
      "    c:\\programdata\\anaconda3\\lib\\pprint.py\n",
      "\n",
      "\n"
     ]
    }
   ],
   "source": [
    "help(pprint)"
   ]
  },
  {
   "cell_type": "code",
   "execution_count": 1,
   "metadata": {
    "scrolled": false
   },
   "outputs": [
    {
     "name": "stdout",
     "output_type": "stream",
     "text": [
      "['False', 'None', 'True', 'and', 'as', 'assert', 'async',\n",
      " 'await', 'break', 'class', 'continue', 'def', 'del',\n",
      " 'elif', 'else', 'except', 'finally', 'for', 'from',\n",
      " 'global', 'if', 'import', 'in', 'is', 'lambda', 'nonlocal',\n",
      " 'not', 'or', 'pass', 'raise', 'return', 'try', 'while',\n",
      " 'with', 'yield']\n",
      "Help on module pprint:\n",
      "\n",
      "NAME\n",
      "    pprint - Support to pretty-print lists, tuples, & dictionaries recursively.\n",
      "\n",
      "DESCRIPTION\n",
      "    Very simple, but useful, especially in debugging data structures.\n",
      "    \n",
      "    Classes\n",
      "    -------\n",
      "    \n",
      "    PrettyPrinter()\n",
      "        Handle pretty-printing operations onto a stream using a configured\n",
      "        set of formatting parameters.\n",
      "    \n",
      "    Functions\n",
      "    ---------\n",
      "    \n",
      "    pformat()\n",
      "        Format a Python object into a pretty-printed representation.\n",
      "    \n",
      "    pprint()\n",
      "        Pretty-print a Python object to a stream [default is sys.stdout].\n",
      "    \n",
      "    saferepr()\n",
      "        Generate a 'standard' repr()-like value, but protect against recursive\n",
      "        data structures.\n",
      "\n",
      "CLASSES\n",
      "    builtins.object\n",
      "        PrettyPrinter\n",
      "    \n",
      "    class PrettyPrinter(builtins.object)\n",
      "     |  PrettyPrinter(indent=1, width=80, depth=None, stream=None, *, compact=False)\n",
      "     |  \n",
      "     |  Methods defined here:\n",
      "     |  \n",
      "     |  __init__(self, indent=1, width=80, depth=None, stream=None, *, compact=False)\n",
      "     |      Handle pretty printing operations onto a stream using a set of\n",
      "     |      configured parameters.\n",
      "     |      \n",
      "     |      indent\n",
      "     |          Number of spaces to indent for each level of nesting.\n",
      "     |      \n",
      "     |      width\n",
      "     |          Attempted maximum number of columns in the output.\n",
      "     |      \n",
      "     |      depth\n",
      "     |          The maximum depth to print out nested structures.\n",
      "     |      \n",
      "     |      stream\n",
      "     |          The desired output stream.  If omitted (or false), the standard\n",
      "     |          output stream available at construction will be used.\n",
      "     |      \n",
      "     |      compact\n",
      "     |          If true, several items will be combined in one line.\n",
      "     |  \n",
      "     |  format(self, object, context, maxlevels, level)\n",
      "     |      Format object for a specific context, returning a string\n",
      "     |      and flags indicating whether the representation is 'readable'\n",
      "     |      and whether the object represents a recursive construct.\n",
      "     |  \n",
      "     |  isreadable(self, object)\n",
      "     |  \n",
      "     |  isrecursive(self, object)\n",
      "     |  \n",
      "     |  pformat(self, object)\n",
      "     |  \n",
      "     |  pprint(self, object)\n",
      "     |  \n",
      "     |  ----------------------------------------------------------------------\n",
      "     |  Data descriptors defined here:\n",
      "     |  \n",
      "     |  __dict__\n",
      "     |      dictionary for instance variables (if defined)\n",
      "     |  \n",
      "     |  __weakref__\n",
      "     |      list of weak references to the object (if defined)\n",
      "\n",
      "FUNCTIONS\n",
      "    isreadable(object)\n",
      "        Determine if saferepr(object) is readable by eval().\n",
      "    \n",
      "    isrecursive(object)\n",
      "        Determine if object requires a recursive representation.\n",
      "    \n",
      "    pformat(object, indent=1, width=80, depth=None, *, compact=False)\n",
      "        Format a Python object into a pretty-printed representation.\n",
      "    \n",
      "    pprint(object, stream=None, indent=1, width=80, depth=None, *, compact=False)\n",
      "        Pretty-print a Python object to a stream [default is sys.stdout].\n",
      "    \n",
      "    saferepr(object)\n",
      "        Version of repr() which can handle recursive data structures.\n",
      "\n",
      "DATA\n",
      "    __all__ = ['pprint', 'pformat', 'isreadable', 'isrecursive', 'saferepr...\n",
      "\n",
      "FILE\n",
      "    c:\\programdata\\anaconda3\\lib\\pprint.py\n",
      "\n",
      "\n"
     ]
    }
   ],
   "source": [
    "import keyword\n",
    "import pprint\n",
    "pprint.pprint(keyword.kwlist, width=60, compact=True)\n",
    "help(pprint) #도움말을 보여줌"
   ]
  },
  {
   "cell_type": "code",
   "execution_count": 51,
   "metadata": {},
   "outputs": [
    {
     "name": "stdout",
     "output_type": "stream",
     "text": [
      "Help on built-in module sys:\n",
      "\n",
      "NAME\n",
      "    sys\n",
      "\n",
      "MODULE REFERENCE\n",
      "    https://docs.python.org/3.7/library/sys\n",
      "    \n",
      "    The following documentation is automatically generated from the Python\n",
      "    source files.  It may be incomplete, incorrect or include features that\n",
      "    are considered implementation detail and may vary between Python\n",
      "    implementations.  When in doubt, consult the module reference at the\n",
      "    location listed above.\n",
      "\n",
      "DESCRIPTION\n",
      "    This module provides access to some objects used or maintained by the\n",
      "    interpreter and to functions that interact strongly with the interpreter.\n",
      "    \n",
      "    Dynamic objects:\n",
      "    \n",
      "    argv -- command line arguments; argv[0] is the script pathname if known\n",
      "    path -- module search path; path[0] is the script directory, else ''\n",
      "    modules -- dictionary of loaded modules\n",
      "    \n",
      "    displayhook -- called to show results in an interactive session\n",
      "    excepthook -- called to handle any uncaught exception other than SystemExit\n",
      "      To customize printing in an interactive session or to install a custom\n",
      "      top-level exception handler, assign other functions to replace these.\n",
      "    \n",
      "    stdin -- standard input file object; used by input()\n",
      "    stdout -- standard output file object; used by print()\n",
      "    stderr -- standard error object; used for error messages\n",
      "      By assigning other file objects (or objects that behave like files)\n",
      "      to these, it is possible to redirect all of the interpreter's I/O.\n",
      "    \n",
      "    last_type -- type of last uncaught exception\n",
      "    last_value -- value of last uncaught exception\n",
      "    last_traceback -- traceback of last uncaught exception\n",
      "      These three are only available in an interactive session after a\n",
      "      traceback has been printed.\n",
      "    \n",
      "    Static objects:\n",
      "    \n",
      "    builtin_module_names -- tuple of module names built into this interpreter\n",
      "    copyright -- copyright notice pertaining to this interpreter\n",
      "    exec_prefix -- prefix used to find the machine-specific Python library\n",
      "    executable -- absolute path of the executable binary of the Python interpreter\n",
      "    float_info -- a named tuple with information about the float implementation.\n",
      "    float_repr_style -- string indicating the style of repr() output for floats\n",
      "    hash_info -- a named tuple with information about the hash algorithm.\n",
      "    hexversion -- version information encoded as a single integer\n",
      "    implementation -- Python implementation information.\n",
      "    int_info -- a named tuple with information about the int implementation.\n",
      "    maxsize -- the largest supported length of containers.\n",
      "    maxunicode -- the value of the largest Unicode code point\n",
      "    platform -- platform identifier\n",
      "    prefix -- prefix used to find the Python library\n",
      "    thread_info -- a named tuple with information about the thread implementation.\n",
      "    version -- the version of this interpreter as a string\n",
      "    version_info -- version information as a named tuple\n",
      "    dllhandle -- [Windows only] integer handle of the Python DLL\n",
      "    winver -- [Windows only] version number of the Python DLL\n",
      "    _enablelegacywindowsfsencoding -- [Windows only] \n",
      "    __stdin__ -- the original stdin; don't touch!\n",
      "    __stdout__ -- the original stdout; don't touch!\n",
      "    __stderr__ -- the original stderr; don't touch!\n",
      "    __displayhook__ -- the original displayhook; don't touch!\n",
      "    __excepthook__ -- the original excepthook; don't touch!\n",
      "    \n",
      "    Functions:\n",
      "    \n",
      "    displayhook() -- print an object to the screen, and save it in builtins._\n",
      "    excepthook() -- print an exception and its traceback to sys.stderr\n",
      "    exc_info() -- return thread-safe information about the current exception\n",
      "    exit() -- exit the interpreter by raising SystemExit\n",
      "    getdlopenflags() -- returns flags to be used for dlopen() calls\n",
      "    getprofile() -- get the global profiling function\n",
      "    getrefcount() -- return the reference count for an object (plus one :-)\n",
      "    getrecursionlimit() -- return the max recursion depth for the interpreter\n",
      "    getsizeof() -- return the size of an object in bytes\n",
      "    gettrace() -- get the global debug tracing function\n",
      "    setcheckinterval() -- control how often the interpreter checks for events\n",
      "    setdlopenflags() -- set the flags to be used for dlopen() calls\n",
      "    setprofile() -- set the global profiling function\n",
      "    setrecursionlimit() -- set the max recursion depth for the interpreter\n",
      "    settrace() -- set the global debug tracing function\n",
      "\n",
      "FUNCTIONS\n",
      "    __breakpointhook__ = breakpointhook(...)\n",
      "        breakpointhook(*args, **kws)\n",
      "        \n",
      "        This hook function is called by built-in breakpoint().\n",
      "    \n",
      "    __displayhook__ = displayhook(...)\n",
      "        displayhook(object) -> None\n",
      "        \n",
      "        Print an object to sys.stdout and also save it in builtins._\n",
      "    \n",
      "    __excepthook__ = excepthook(...)\n",
      "        excepthook(exctype, value, traceback) -> None\n",
      "        \n",
      "        Handle an exception by displaying it with a traceback on sys.stderr.\n",
      "    \n",
      "    breakpointhook(...)\n",
      "        breakpointhook(*args, **kws)\n",
      "        \n",
      "        This hook function is called by built-in breakpoint().\n",
      "    \n",
      "    call_tracing(...)\n",
      "        call_tracing(func, args) -> object\n",
      "        \n",
      "        Call func(*args), while tracing is enabled.  The tracing state is\n",
      "        saved, and restored afterwards.  This is intended to be called from\n",
      "        a debugger from a checkpoint, to recursively debug some other code.\n",
      "    \n",
      "    callstats(...)\n",
      "        callstats() -> tuple of integers\n",
      "        \n",
      "        Return a tuple of function call statistics, if CALL_PROFILE was defined\n",
      "        when Python was built.  Otherwise, return None.\n",
      "        \n",
      "        When enabled, this function returns detailed, implementation-specific\n",
      "        details about the number of function calls executed. The return value is\n",
      "        a 11-tuple where the entries in the tuple are counts of:\n",
      "        0. all function calls\n",
      "        1. calls to PyFunction_Type objects\n",
      "        2. PyFunction calls that do not create an argument tuple\n",
      "        3. PyFunction calls that do not create an argument tuple\n",
      "           and bypass PyEval_EvalCodeEx()\n",
      "        4. PyMethod calls\n",
      "        5. PyMethod calls on bound methods\n",
      "        6. PyType calls\n",
      "        7. PyCFunction calls\n",
      "        8. generator calls\n",
      "        9. All other calls\n",
      "        10. Number of stack pops performed by call_function()\n",
      "    \n",
      "    exc_info(...)\n",
      "        exc_info() -> (type, value, traceback)\n",
      "        \n",
      "        Return information about the most recent exception caught by an except\n",
      "        clause in the current stack frame or in an older stack frame.\n",
      "    \n",
      "    exit(...)\n",
      "        exit([status])\n",
      "        \n",
      "        Exit the interpreter by raising SystemExit(status).\n",
      "        If the status is omitted or None, it defaults to zero (i.e., success).\n",
      "        If the status is an integer, it will be used as the system exit status.\n",
      "        If it is another kind of object, it will be printed and the system\n",
      "        exit status will be one (i.e., failure).\n",
      "    \n",
      "    get_asyncgen_hooks(...)\n",
      "        get_asyncgen_hooks()\n",
      "        \n",
      "        Return a namedtuple of installed asynchronous generators hooks (firstiter, finalizer).\n",
      "    \n",
      "    get_coroutine_origin_tracking_depth()\n",
      "        Check status of origin tracking for coroutine objects in this thread.\n",
      "    \n",
      "    get_coroutine_wrapper(...)\n",
      "        get_coroutine_wrapper()\n",
      "        \n",
      "        Return the wrapper for coroutine objects set by sys.set_coroutine_wrapper.\n",
      "    \n",
      "    getallocatedblocks(...)\n",
      "        getallocatedblocks() -> integer\n",
      "        \n",
      "        Return the number of memory blocks currently allocated, regardless of their\n",
      "        size.\n",
      "    \n",
      "    getcheckinterval(...)\n",
      "        getcheckinterval() -> current check interval; see setcheckinterval().\n",
      "    \n",
      "    getdefaultencoding(...)\n",
      "        getdefaultencoding() -> string\n",
      "        \n",
      "        Return the current default string encoding used by the Unicode \n",
      "        implementation.\n",
      "    \n",
      "    getfilesystemencodeerrors(...)\n",
      "        getfilesystemencodeerrors() -> string\n",
      "        \n",
      "        Return the error mode used to convert Unicode filenames in\n",
      "        operating system filenames.\n",
      "    \n",
      "    getfilesystemencoding(...)\n",
      "        getfilesystemencoding() -> string\n",
      "        \n",
      "        Return the encoding used to convert Unicode filenames in\n",
      "        operating system filenames.\n",
      "    \n",
      "    getprofile(...)\n",
      "        getprofile()\n",
      "        \n",
      "        Return the profiling function set with sys.setprofile.\n",
      "        See the profiler chapter in the library manual.\n",
      "    \n",
      "    getrecursionlimit(...)\n",
      "        getrecursionlimit()\n",
      "        \n",
      "        Return the current value of the recursion limit, the maximum depth\n",
      "        of the Python interpreter stack.  This limit prevents infinite\n",
      "        recursion from causing an overflow of the C stack and crashing Python.\n",
      "    \n",
      "    getrefcount(...)\n",
      "        getrefcount(object) -> integer\n",
      "        \n",
      "        Return the reference count of object.  The count returned is generally\n",
      "        one higher than you might expect, because it includes the (temporary)\n",
      "        reference as an argument to getrefcount().\n",
      "    \n",
      "    getsizeof(...)\n",
      "        getsizeof(object, default) -> int\n",
      "        \n",
      "        Return the size of object in bytes.\n",
      "    \n",
      "    getswitchinterval(...)\n",
      "        getswitchinterval() -> current thread switch interval; see setswitchinterval().\n",
      "    \n",
      "    gettrace(...)\n",
      "        gettrace()\n",
      "        \n",
      "        Return the global debug tracing function set with sys.settrace.\n",
      "        See the debugger chapter in the library manual.\n",
      "    \n",
      "    getwindowsversion(...)\n",
      "        getwindowsversion()\n",
      "        \n",
      "        Return information about the running version of Windows as a named tuple.\n",
      "        The members are named: major, minor, build, platform, service_pack,\n",
      "        service_pack_major, service_pack_minor, suite_mask, and product_type. For\n",
      "        backward compatibility, only the first 5 items are available by indexing.\n",
      "        All elements are numbers, except service_pack and platform_type which are\n",
      "        strings, and platform_version which is a 3-tuple. Platform is always 2.\n",
      "        Product_type may be 1 for a workstation, 2 for a domain controller, 3 for a\n",
      "        server. Platform_version is a 3-tuple containing a version number that is\n",
      "        intended for identifying the OS rather than feature detection.\n",
      "    \n",
      "    intern(...)\n",
      "        intern(string) -> string\n",
      "        \n",
      "        ``Intern'' the given string.  This enters the string in the (global)\n",
      "        table of interned strings whose purpose is to speed up dictionary lookups.\n",
      "        Return the string itself or the previously interned string object with the\n",
      "        same value.\n",
      "    \n",
      "    is_finalizing(...)\n",
      "        is_finalizing()\n",
      "        Return True if Python is exiting.\n",
      "    \n",
      "    set_asyncgen_hooks(...)\n",
      "        set_asyncgen_hooks(*, firstiter=None, finalizer=None)\n",
      "        \n",
      "        Set a finalizer for async generators objects.\n",
      "    \n",
      "    set_coroutine_origin_tracking_depth(depth)\n",
      "        Enable or disable origin tracking for coroutine objects in this thread.\n",
      "        \n",
      "        Coroutine objects will track 'depth' frames of traceback information about\n",
      "        where they came from, available in their cr_origin attribute. Set depth of 0\n",
      "        to disable.\n",
      "    \n",
      "    set_coroutine_wrapper(...)\n",
      "        set_coroutine_wrapper(wrapper)\n",
      "        \n",
      "        Set a wrapper for coroutine objects.\n",
      "    \n",
      "    setcheckinterval(...)\n",
      "        setcheckinterval(n)\n",
      "        \n",
      "        Tell the Python interpreter to check for asynchronous events every\n",
      "        n instructions.  This also affects how often thread switches occur.\n",
      "    \n",
      "    setprofile(...)\n",
      "        setprofile(function)\n",
      "        \n",
      "        Set the profiling function.  It will be called on each function call\n",
      "        and return.  See the profiler chapter in the library manual.\n",
      "    \n",
      "    setrecursionlimit(...)\n",
      "        setrecursionlimit(n)\n",
      "        \n",
      "        Set the maximum depth of the Python interpreter stack to n.  This\n",
      "        limit prevents infinite recursion from causing an overflow of the C\n",
      "        stack and crashing Python.  The highest possible limit is platform-\n",
      "        dependent.\n",
      "    \n",
      "    setswitchinterval(...)\n",
      "        setswitchinterval(n)\n",
      "        \n",
      "        Set the ideal thread switching delay inside the Python interpreter\n",
      "        The actual frequency of switching threads can be lower if the\n",
      "        interpreter executes long sequences of uninterruptible code\n",
      "        (this is implementation-specific and workload-dependent).\n",
      "        \n",
      "        The parameter must represent the desired switching delay in seconds\n",
      "        A typical value is 0.005 (5 milliseconds).\n",
      "    \n",
      "    settrace(...)\n",
      "        settrace(function)\n",
      "        \n",
      "        Set the global debug tracing function.  It will be called on each\n",
      "        function call.  See the debugger chapter in the library manual.\n",
      "\n",
      "DATA\n",
      "    __stderr__ = <_io.TextIOWrapper name='<stderr>' mode='w' encoding='utf...\n",
      "    __stdin__ = <_io.TextIOWrapper name='<stdin>' mode='r' encoding='cp949...\n",
      "    __stdout__ = <_io.TextIOWrapper name='<stdout>' mode='w' encoding='utf...\n",
      "    api_version = 1013\n",
      "    argv = [r'C:\\ProgramData\\Anaconda3\\lib\\site-packages\\ipykernel_launche...\n",
      "    base_exec_prefix = r'C:\\ProgramData\\Anaconda3'\n",
      "    base_prefix = r'C:\\ProgramData\\Anaconda3'\n",
      "    builtin_module_names = ('_abc', '_ast', '_bisect', '_blake2', '_codecs...\n",
      "    byteorder = 'little'\n",
      "    copyright = 'Copyright (c) 2001-2019 Python Software Foundati...ematis...\n",
      "    displayhook = <ipykernel.displayhook.ZMQShellDisplayHook object>\n",
      "    dllhandle = 140705584906240\n",
      "    dont_write_bytecode = False\n",
      "    exec_prefix = r'C:\\ProgramData\\Anaconda3'\n",
      "    executable = r'C:\\ProgramData\\Anaconda3\\python.exe'\n",
      "    flags = sys.flags(debug=0, inspect=0, interactive=0, opt...ation=1, is...\n",
      "    float_info = sys.float_info(max=1.7976931348623157e+308, max_...epsilo...\n",
      "    float_repr_style = 'short'\n",
      "    hash_info = sys.hash_info(width=64, modulus=2305843009213693...iphash2...\n",
      "    hexversion = 50792176\n",
      "    implementation = namespace(cache_tag='cpython-37', hexversion=507...in...\n",
      "    int_info = sys.int_info(bits_per_digit=30, sizeof_digit=4)\n",
      "    last_value = NameError(\"name 'sys' is not defined\")\n",
      "    maxsize = 9223372036854775807\n",
      "    maxunicode = 1114111\n",
      "    meta_path = [<class '_frozen_importlib.BuiltinImporter'>, <class '_fro...\n",
      "    modules = {'IPython': <module 'IPython' from 'C:\\\\ProgramData\\\\Anacond...\n",
      "    path = [r'C:\\Users\\hangaramit24\\Desktop\\jslee\\200513', r'C:\\ProgramDat...\n",
      "    path_hooks = [<class 'zipimport.zipimporter'>, <function FileFinder.pa...\n",
      "    path_importer_cache = {r'C:\\ProgramData\\Anaconda3': FileFinder('C:\\\\Pr...\n",
      "    platform = 'win32'\n",
      "    prefix = r'C:\\ProgramData\\Anaconda3'\n",
      "    ps1 = 'In : '\n",
      "    ps2 = '...: '\n",
      "    ps3 = 'Out: '\n",
      "    stderr = <ipykernel.iostream.OutStream object>\n",
      "    stdin = <_io.TextIOWrapper name='<stdin>' mode='r' encoding='cp949'>\n",
      "    stdout = <ipykernel.iostream.OutStream object>\n",
      "    thread_info = sys.thread_info(name='nt', lock=None, version=None)\n",
      "    version = '3.7.6 (default, Jan  8 2020, 20:23:39) [MSC v.1916 64 bit (...\n",
      "    version_info = sys.version_info(major=3, minor=7, micro=6, releaseleve...\n",
      "    warnoptions = []\n",
      "    winver = '3.7'\n",
      "\n",
      "FILE\n",
      "    (built-in)\n",
      "\n",
      "\n"
     ]
    }
   ],
   "source": [
    "import sys\n",
    "help(sys)"
   ]
  },
  {
   "cell_type": "code",
   "execution_count": 1,
   "metadata": {
    "scrolled": true
   },
   "outputs": [
    {
     "name": "stdout",
     "output_type": "stream",
     "text": [
      "본 프로그램은 섭씨온도를 화씨 온도로 변환하는 프로그램입니다.\n",
      "변환하고 싶은 섭씨온도를 입력하세요.32.2\n",
      "섭씨온도 :  32.2\n",
      "화씨온도 :  89.96000000000001\n"
     ]
    }
   ],
   "source": [
    "print('본 프로그램은 섭씨온도를 화씨 온도로 변환하는 프로그램입니다.')\n",
    "FTconverter = input('변환하고 싶은 섭씨온도를 입력하세요.')\n",
    "print('섭씨온도 :', float(FTconverter))\n",
    "print('화씨온도 :', ((float(FTconverter)*1.8)+32))"
   ]
  },
  {
   "cell_type": "code",
   "execution_count": null,
   "metadata": {},
   "outputs": [],
   "source": []
  },
  {
   "cell_type": "code",
   "execution_count": 49,
   "metadata": {},
   "outputs": [
    {
     "name": "stdout",
     "output_type": "stream",
     "text": [
      "본 프로그램은 섭씨온도를 화씨 온도로 변환하는 프로그램입니다.\n",
      "변환하고 싶은 섭씨온도를 입력하세요.32.56\n",
      "섭씨온도 : 32.56\n",
      "화씨온도 : 90.61\n"
     ]
    }
   ],
   "source": [
    "print('본 프로그램은 섭씨온도를 화씨 온도로 변환하는 프로그램입니다.')\n",
    "FTconverter = input('변환하고 싶은 섭씨온도를 입력하세요.')\n",
    "F = float(FTconverter)\n",
    "print('섭씨온도 :', F)\n",
    "print('화씨온도 :', round(F *1.8+32,2))"
   ]
  },
  {
   "cell_type": "code",
   "execution_count": 27,
   "metadata": {},
   "outputs": [
    {
     "name": "stdout",
     "output_type": "stream",
     "text": [
      "본 프로그램은 섭씨온도를 화씨 온도로 변환하는 프로그램입니다.\n",
      "변환하고 싶은 섭씨온도를 입력하세요.32.2\n",
      "섭씨온도 : 32.2\n",
      "화씨 온도: 89.96\n"
     ]
    }
   ],
   "source": [
    "print('본 프로그램은 섭씨온도를 화씨 온도로 변환하는 프로그램입니다.')\n",
    "C = input('변환하고 싶은 섭씨온도를 입력하세요.')\n",
    "F = float(C)*1.8+32\n",
    "print('섭씨온도 :', C)\n",
    "print(\"화씨 온도: %.2f\" % F)"
   ]
  },
  {
   "cell_type": "code",
   "execution_count": 7,
   "metadata": {},
   "outputs": [
    {
     "name": "stdout",
     "output_type": "stream",
     "text": [
      "<class 'object'>\n"
     ]
    }
   ],
   "source": [
    "print(object)"
   ]
  },
  {
   "cell_type": "code",
   "execution_count": 9,
   "metadata": {},
   "outputs": [
    {
     "name": "stdout",
     "output_type": "stream",
     "text": [
      "<class 'object'>\n"
     ]
    }
   ],
   "source": [
    "print(object.__str__(object))"
   ]
  },
  {
   "cell_type": "code",
   "execution_count": 10,
   "metadata": {},
   "outputs": [
    {
     "name": "stdout",
     "output_type": "stream",
     "text": [
      "314000.0\n"
     ]
    }
   ],
   "source": [
    "print(3.14e+5)"
   ]
  },
  {
   "cell_type": "code",
   "execution_count": 17,
   "metadata": {},
   "outputs": [
    {
     "name": "stdout",
     "output_type": "stream",
     "text": [
      "3.14e-05\n"
     ]
    }
   ],
   "source": [
    "print(3.14e-5)"
   ]
  },
  {
   "cell_type": "code",
   "execution_count": 16,
   "metadata": {},
   "outputs": [
    {
     "name": "stdout",
     "output_type": "stream",
     "text": [
      "sys.int_info(bits_per_digit=30, sizeof_digit=4)\n",
      "sys.float_info(max=1.7976931348623157e+308, max_exp=1024, max_10_exp=308, min=2.2250738585072014e-308, min_exp=-1021, min_10_exp=-307, dig=15, mant_dig=53, epsilon=2.220446049250313e-16, radix=2, rounds=1)\n",
      "10963\n",
      "max 1.7976931348623157e+308\n",
      "min 2.2250738585072014e-308\n"
     ]
    }
   ],
   "source": [
    "import sys\n",
    "print(sys.int_info)\n",
    "print(sys.float_info)\n",
    "a = 10**3300\n",
    "print(a.bit_length())    #이진수의 크기를 알수있다.\n",
    "print('max', sys.float_info.max)\n",
    "print('min', sys.float_info.min)"
   ]
  },
  {
   "cell_type": "code",
   "execution_count": 8,
   "metadata": {},
   "outputs": [
    {
     "name": "stdout",
     "output_type": "stream",
     "text": [
      "int 기본 크기 --> 24\n",
      "float 기본 크기 --> 24\n",
      "bool 기본 크기 --> 28\n",
      "str 기본 크기 --> 50\n",
      "list 기본 크기 --> 64\n",
      "tuple 기본 크기 -> 48\n",
      "dictionary 기본 크기 -> 240\n",
      "set 기본 크기 -> 224\n"
     ]
    }
   ],
   "source": [
    "import sys\n",
    "\n",
    "if __name__ == \"__main__\" :\n",
    "    intVar= 0\n",
    "    floatVar = 0.0\n",
    "    boolVar=True\n",
    "    strVar=' '\n",
    "    listVar = [ ]\n",
    "    tupleVar = ( )\n",
    "    dictVar = { }\n",
    "    setVar = set()\n",
    "\n",
    "    print(\"int 기본 크기 -->\", sys.getsizeof(intVar) )\n",
    "    print(\"float 기본 크기 -->\", sys.getsizeof(floatVar) )\n",
    "    print(\"bool 기본 크기 -->\", sys.getsizeof(boolVar) )\n",
    "    print(\"str 기본 크기 -->\", sys.getsizeof(strVar) )\n",
    "    print(\"list 기본 크기 -->\", sys.getsizeof(listVar) )\n",
    "    print(\"tuple 기본 크기 ->\", sys.getsizeof(tupleVar) )\n",
    "    print(\"dictionary 기본 크기 ->\", sys.getsizeof(dictVar) )\n",
    "    print(\"set 기본 크기 ->\", sys.getsizeof(setVar) )"
   ]
  },
  {
   "cell_type": "code",
   "execution_count": 9,
   "metadata": {},
   "outputs": [
    {
     "data": {
      "text/plain": [
       "'python'"
      ]
     },
     "execution_count": 9,
     "metadata": {},
     "output_type": "execute_result"
    }
   ],
   "source": [
    "a = 'py'\n",
    "a + 'thon'"
   ]
  },
  {
   "cell_type": "code",
   "execution_count": 10,
   "metadata": {},
   "outputs": [
    {
     "data": {
      "text/plain": [
       "'pypypy'"
      ]
     },
     "execution_count": 10,
     "metadata": {},
     "output_type": "execute_result"
    }
   ],
   "source": [
    "a * 3"
   ]
  },
  {
   "cell_type": "code",
   "execution_count": 11,
   "metadata": {},
   "outputs": [
    {
     "data": {
      "text/plain": [
       "'98.6'"
      ]
     },
     "execution_count": 11,
     "metadata": {},
     "output_type": "execute_result"
    }
   ],
   "source": [
    "str(98.6)"
   ]
  },
  {
   "cell_type": "code",
   "execution_count": null,
   "metadata": {},
   "outputs": [],
   "source": []
  }
 ],
 "metadata": {
  "kernelspec": {
   "display_name": "Python 3",
   "language": "python",
   "name": "python3"
  },
  "language_info": {
   "codemirror_mode": {
    "name": "ipython",
    "version": 3
   },
   "file_extension": ".py",
   "mimetype": "text/x-python",
   "name": "python",
   "nbconvert_exporter": "python",
   "pygments_lexer": "ipython3",
   "version": "3.7.6"
  }
 },
 "nbformat": 4,
 "nbformat_minor": 4
}
